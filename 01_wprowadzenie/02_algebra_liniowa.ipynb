{
  "nbformat": 4,
  "nbformat_minor": 0,
  "metadata": {
    "colab": {
      "name": "02_algebra_liniowa.ipynb",
      "provenance": [],
      "authorship_tag": "ABX9TyOvUQyBxnIKWM560uB1wC+b",
      "include_colab_link": true
    },
    "kernelspec": {
      "name": "python3",
      "display_name": "Python 3"
    }
  },
  "cells": [
    {
      "cell_type": "markdown",
      "metadata": {
        "id": "view-in-github",
        "colab_type": "text"
      },
      "source": [
        "<a href=\"https://colab.research.google.com/github/MalwareX95/Data-Science-Bootcamp-w-j-zyku-Python/blob/main/01_wprowadzenie/02_algebra_liniowa.ipynb\" target=\"_parent\"><img src=\"https://colab.research.google.com/assets/colab-badge.svg\" alt=\"Open In Colab\"/></a>"
      ]
    },
    {
      "cell_type": "markdown",
      "metadata": {
        "id": "RPCDA7kF6dNd"
      },
      "source": [
        "### Spis treści:\n",
        "1. [Norma wektora, długość wektora w $R^{2}$](#a1)\n",
        "2. [Norma euklidesowa $R^{n}$](#a2)\n",
        "3. [Odległóść dwóch punktów na płaszczyźnie](#a3)\n",
        "4. [Odległóść dwóch punktów w przestrzeni $R^{n}$](#a4)\n",
        "5. [Mnożenie macierzy](#a5)\n",
        "6. [Wyznacznik macierzy](#a6)\n",
        "7. [Ślad macierzy](#a7)\n",
        "8. [Macierz jednostkowa](#a8)\n",
        "9. [ Macierz odwrotna](#a9)\n",
        "10. [Macierz transponowana](#a10)\n",
        "11. [Rozwiązywanie układów równań](#a11)\n",
        "\n",
        "\n",
        "\n"
      ]
    },
    {
      "cell_type": "code",
      "metadata": {
        "colab": {
          "base_uri": "https://localhost:8080/",
          "height": 35
        },
        "id": "TxR-Q0xm6ezP",
        "outputId": "e434c5ee-ba9b-4e59-cbfc-872d3f4843dc"
      },
      "source": [
        "import numpy as np\n",
        "np.__version__"
      ],
      "execution_count": null,
      "outputs": [
        {
          "output_type": "execute_result",
          "data": {
            "application/vnd.google.colaboratory.intrinsic+json": {
              "type": "string"
            },
            "text/plain": [
              "'1.18.5'"
            ]
          },
          "metadata": {
            "tags": []
          },
          "execution_count": 1
        }
      ]
    },
    {
      "cell_type": "markdown",
      "metadata": {
        "id": "fte0ge0x6xty"
      },
      "source": [
        "### <a name='a1'></a> Norma wektora, długość wektora w $R^{2}$\n",
        "\n",
        "${\\mathbf  {v}} = [v_{1}, v_{2}]$   \n",
        "$\\left\\|{\\mathbf  {v}}\\right\\|={\\sqrt  {v_{1}^{2}+v_{2}^{2}}}$"
      ]
    },
    {
      "cell_type": "code",
      "metadata": {
        "colab": {
          "base_uri": "https://localhost:8080/"
        },
        "id": "we6pf3Li6uZT",
        "outputId": "6e12cd37-5613-43fe-a67d-1a26ef27939e"
      },
      "source": [
        "v1 = np.array([-1, 4])\n",
        "v1"
      ],
      "execution_count": null,
      "outputs": [
        {
          "output_type": "execute_result",
          "data": {
            "text/plain": [
              "array([-1,  4])"
            ]
          },
          "metadata": {
            "tags": []
          },
          "execution_count": 3
        }
      ]
    },
    {
      "cell_type": "code",
      "metadata": {
        "colab": {
          "base_uri": "https://localhost:8080/"
        },
        "id": "0KNIEcMb-0ye",
        "outputId": "11cab5dd-65b7-49c3-f12d-9fb0f14fa18b"
      },
      "source": [
        "np.linalg.norm(v1)"
      ],
      "execution_count": null,
      "outputs": [
        {
          "output_type": "execute_result",
          "data": {
            "text/plain": [
              "4.123105625617661"
            ]
          },
          "metadata": {
            "tags": []
          },
          "execution_count": 4
        }
      ]
    },
    {
      "cell_type": "markdown",
      "metadata": {
        "id": "_CFKOepq_HRT"
      },
      "source": [
        "### <a name='a2'></a> Norma euklidesowa w $R^{n}$\n",
        "\n",
        "$\\left\\|{\\mathbf  {v}}\\right\\|={\\sqrt  {v_{1}^{2}+v_{2}^{2}+\\cdots +v_{n}^{2}}}$"
      ]
    },
    {
      "cell_type": "code",
      "metadata": {
        "id": "P_AL7bvj_HkD"
      },
      "source": [
        ""
      ],
      "execution_count": null,
      "outputs": []
    }
  ]
}