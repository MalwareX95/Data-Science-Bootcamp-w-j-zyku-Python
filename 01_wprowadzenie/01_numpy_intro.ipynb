{
  "nbformat": 4,
  "nbformat_minor": 0,
  "metadata": {
    "colab": {
      "name": "Wprowadzenie: Numpy.ipynb",
      "provenance": [],
      "authorship_tag": "ABX9TyNq7dEbk+/flXoEd0oZuihk",
      "include_colab_link": true
    },
    "kernelspec": {
      "name": "python3",
      "display_name": "Python 3"
    }
  },
  "cells": [
    {
      "cell_type": "markdown",
      "metadata": {
        "id": "view-in-github",
        "colab_type": "text"
      },
      "source": [
        "<a href=\"https://colab.research.google.com/github/MalwareX95/Data-Science-Bootcamp-w-j-zyku-Python/blob/main/01_wprowadzenie/01_numpy_intro.ipynb\" target=\"_parent\"><img src=\"https://colab.research.google.com/assets/colab-badge.svg\" alt=\"Open In Colab\"/></a>"
      ]
    },
    {
      "cell_type": "markdown",
      "metadata": {
        "id": "bziXWyl_9SfF"
      },
      "source": [
        "### Spis treści:\n",
        "1. [Podstawy](#a1)\n",
        "2. [Typy danych](#a2)\n",
        "3. [Tworzenie tablic](#a3)\n",
        "4. [Podstawowe operacje na tablicach](#a4)\n",
        "5. [Generowanie liczb pseudolosowych](#a5)\n",
        "6. [Podstawowe funkcje](#a6)\n",
        "7. [Indeksowanie, Wycinanie](#a7)\n",
        "8. [Iteracja po tablicach](#a8)\n",
        "9. [Zmiana rozmiaru tablic](#a9)\n",
        "10. [Maski logiczne](#a10)\n",
        "\n",
        "\n",
        "\n",
        "\n",
        "\n"
      ]
    },
    {
      "cell_type": "markdown",
      "metadata": {
        "id": "vP5IS9BM-c1_"
      },
      "source": [
        "### <a name='a1'></a> Podstawy"
      ]
    },
    {
      "cell_type": "markdown",
      "metadata": {
        "id": "G8z2Vn9d9Rsc"
      },
      "source": [
        ""
      ]
    },
    {
      "cell_type": "code",
      "metadata": {
        "id": "FIDTboZTB_iX",
        "colab": {
          "base_uri": "https://localhost:8080/",
          "height": 35
        },
        "outputId": "e57ca9a3-7a66-4c36-f34d-32c389268c28"
      },
      "source": [
        "import numpy as np\n",
        "np.__version__"
      ],
      "execution_count": 4,
      "outputs": [
        {
          "output_type": "execute_result",
          "data": {
            "application/vnd.google.colaboratory.intrinsic+json": {
              "type": "string"
            },
            "text/plain": [
              "'1.18.5'"
            ]
          },
          "metadata": {
            "tags": []
          },
          "execution_count": 4
        }
      ]
    },
    {
      "cell_type": "code",
      "metadata": {
        "id": "EsVbEBX7CCoj",
        "colab": {
          "base_uri": "https://localhost:8080/"
        },
        "outputId": "18cb2918-42e7-414f-f3bf-30385fc4931c"
      },
      "source": [
        "print(dir(np))"
      ],
      "execution_count": null,
      "outputs": [
        {
          "output_type": "stream",
          "text": [
            "['ALLOW_THREADS', 'AxisError', 'BUFSIZE', 'CLIP', 'ComplexWarning', 'DataSource', 'ERR_CALL', 'ERR_DEFAULT', 'ERR_IGNORE', 'ERR_LOG', 'ERR_PRINT', 'ERR_RAISE', 'ERR_WARN', 'FLOATING_POINT_SUPPORT', 'FPE_DIVIDEBYZERO', 'FPE_INVALID', 'FPE_OVERFLOW', 'FPE_UNDERFLOW', 'False_', 'Inf', 'Infinity', 'MAXDIMS', 'MAY_SHARE_BOUNDS', 'MAY_SHARE_EXACT', 'MachAr', 'ModuleDeprecationWarning', 'NAN', 'NINF', 'NZERO', 'NaN', 'PINF', 'PZERO', 'RAISE', 'RankWarning', 'SHIFT_DIVIDEBYZERO', 'SHIFT_INVALID', 'SHIFT_OVERFLOW', 'SHIFT_UNDERFLOW', 'ScalarType', 'Tester', 'TooHardError', 'True_', 'UFUNC_BUFSIZE_DEFAULT', 'UFUNC_PYVALS_NAME', 'VisibleDeprecationWarning', 'WRAP', '_NoValue', '_UFUNC_API', '__NUMPY_SETUP__', '__all__', '__builtins__', '__cached__', '__config__', '__doc__', '__file__', '__git_revision__', '__loader__', '__name__', '__package__', '__path__', '__spec__', '__version__', '_add_newdoc_ufunc', '_distributor_init', '_globals', '_mat', '_pytesttester', 'abs', 'absolute', 'absolute_import', 'add', 'add_docstring', 'add_newdoc', 'add_newdoc_ufunc', 'alen', 'all', 'allclose', 'alltrue', 'amax', 'amin', 'angle', 'any', 'append', 'apply_along_axis', 'apply_over_axes', 'arange', 'arccos', 'arccosh', 'arcsin', 'arcsinh', 'arctan', 'arctan2', 'arctanh', 'argmax', 'argmin', 'argpartition', 'argsort', 'argwhere', 'around', 'array', 'array2string', 'array_equal', 'array_equiv', 'array_repr', 'array_split', 'array_str', 'asanyarray', 'asarray', 'asarray_chkfinite', 'ascontiguousarray', 'asfarray', 'asfortranarray', 'asmatrix', 'asscalar', 'atleast_1d', 'atleast_2d', 'atleast_3d', 'average', 'bartlett', 'base_repr', 'binary_repr', 'bincount', 'bitwise_and', 'bitwise_not', 'bitwise_or', 'bitwise_xor', 'blackman', 'block', 'bmat', 'bool', 'bool8', 'bool_', 'broadcast', 'broadcast_arrays', 'broadcast_to', 'busday_count', 'busday_offset', 'busdaycalendar', 'byte', 'byte_bounds', 'bytes0', 'bytes_', 'c_', 'can_cast', 'cast', 'cbrt', 'cdouble', 'ceil', 'cfloat', 'char', 'character', 'chararray', 'choose', 'clip', 'clongdouble', 'clongfloat', 'column_stack', 'common_type', 'compare_chararrays', 'compat', 'complex', 'complex128', 'complex256', 'complex64', 'complex_', 'complexfloating', 'compress', 'concatenate', 'conj', 'conjugate', 'convolve', 'copy', 'copysign', 'copyto', 'core', 'corrcoef', 'correlate', 'cos', 'cosh', 'count_nonzero', 'cov', 'cross', 'csingle', 'ctypeslib', 'cumprod', 'cumproduct', 'cumsum', 'datetime64', 'datetime_as_string', 'datetime_data', 'deg2rad', 'degrees', 'delete', 'deprecate', 'deprecate_with_doc', 'diag', 'diag_indices', 'diag_indices_from', 'diagflat', 'diagonal', 'diff', 'digitize', 'disp', 'divide', 'division', 'divmod', 'dot', 'double', 'dsplit', 'dstack', 'dtype', 'e', 'ediff1d', 'einsum', 'einsum_path', 'emath', 'empty', 'empty_like', 'equal', 'errstate', 'euler_gamma', 'exp', 'exp2', 'expand_dims', 'expm1', 'extract', 'eye', 'fabs', 'fastCopyAndTranspose', 'fft', 'fill_diagonal', 'find_common_type', 'finfo', 'fix', 'flatiter', 'flatnonzero', 'flexible', 'flip', 'fliplr', 'flipud', 'float', 'float128', 'float16', 'float32', 'float64', 'float_', 'float_power', 'floating', 'floor', 'floor_divide', 'fmax', 'fmin', 'fmod', 'format_float_positional', 'format_float_scientific', 'format_parser', 'frexp', 'frombuffer', 'fromfile', 'fromfunction', 'fromiter', 'frompyfunc', 'fromregex', 'fromstring', 'full', 'full_like', 'fv', 'gcd', 'generic', 'genfromtxt', 'geomspace', 'get_array_wrap', 'get_include', 'get_printoptions', 'getbufsize', 'geterr', 'geterrcall', 'geterrobj', 'gradient', 'greater', 'greater_equal', 'half', 'hamming', 'hanning', 'heaviside', 'histogram', 'histogram2d', 'histogram_bin_edges', 'histogramdd', 'hsplit', 'hstack', 'hypot', 'i0', 'identity', 'iinfo', 'imag', 'in1d', 'index_exp', 'indices', 'inexact', 'inf', 'info', 'infty', 'inner', 'insert', 'int', 'int0', 'int16', 'int32', 'int64', 'int8', 'int_', 'int_asbuffer', 'intc', 'integer', 'interp', 'intersect1d', 'intp', 'invert', 'ipmt', 'irr', 'is_busday', 'isclose', 'iscomplex', 'iscomplexobj', 'isfinite', 'isfortran', 'isin', 'isinf', 'isnan', 'isnat', 'isneginf', 'isposinf', 'isreal', 'isrealobj', 'isscalar', 'issctype', 'issubclass_', 'issubdtype', 'issubsctype', 'iterable', 'ix_', 'kaiser', 'kron', 'lcm', 'ldexp', 'left_shift', 'less', 'less_equal', 'lexsort', 'lib', 'linalg', 'linspace', 'little_endian', 'load', 'loads', 'loadtxt', 'log', 'log10', 'log1p', 'log2', 'logaddexp', 'logaddexp2', 'logical_and', 'logical_not', 'logical_or', 'logical_xor', 'logspace', 'long', 'longcomplex', 'longdouble', 'longfloat', 'longlong', 'lookfor', 'ma', 'mafromtxt', 'mask_indices', 'mat', 'math', 'matmul', 'matrix', 'matrixlib', 'max', 'maximum', 'maximum_sctype', 'may_share_memory', 'mean', 'median', 'memmap', 'meshgrid', 'mgrid', 'min', 'min_scalar_type', 'minimum', 'mintypecode', 'mirr', 'mod', 'modf', 'moveaxis', 'msort', 'multiply', 'nan', 'nan_to_num', 'nanargmax', 'nanargmin', 'nancumprod', 'nancumsum', 'nanmax', 'nanmean', 'nanmedian', 'nanmin', 'nanpercentile', 'nanprod', 'nanquantile', 'nanstd', 'nansum', 'nanvar', 'nbytes', 'ndarray', 'ndenumerate', 'ndfromtxt', 'ndim', 'ndindex', 'nditer', 'negative', 'nested_iters', 'newaxis', 'nextafter', 'nonzero', 'not_equal', 'nper', 'npv', 'numarray', 'number', 'obj2sctype', 'object', 'object0', 'object_', 'ogrid', 'oldnumeric', 'ones', 'ones_like', 'outer', 'packbits', 'pad', 'partition', 'percentile', 'pi', 'piecewise', 'place', 'pmt', 'poly', 'poly1d', 'polyadd', 'polyder', 'polydiv', 'polyfit', 'polyint', 'polymul', 'polynomial', 'polysub', 'polyval', 'positive', 'power', 'ppmt', 'print_function', 'printoptions', 'prod', 'product', 'promote_types', 'ptp', 'put', 'put_along_axis', 'putmask', 'pv', 'quantile', 'r_', 'rad2deg', 'radians', 'random', 'rate', 'ravel', 'ravel_multi_index', 'real', 'real_if_close', 'rec', 'recarray', 'recfromcsv', 'recfromtxt', 'reciprocal', 'record', 'remainder', 'repeat', 'require', 'reshape', 'resize', 'result_type', 'right_shift', 'rint', 'roll', 'rollaxis', 'roots', 'rot90', 'round', 'round_', 'row_stack', 's_', 'safe_eval', 'save', 'savetxt', 'savez', 'savez_compressed', 'sctype2char', 'sctypeDict', 'sctypeNA', 'sctypes', 'searchsorted', 'select', 'set_numeric_ops', 'set_printoptions', 'set_string_function', 'setbufsize', 'setdiff1d', 'seterr', 'seterrcall', 'seterrobj', 'setxor1d', 'shape', 'shares_memory', 'short', 'show_config', 'sign', 'signbit', 'signedinteger', 'sin', 'sinc', 'single', 'singlecomplex', 'sinh', 'size', 'sometrue', 'sort', 'sort_complex', 'source', 'spacing', 'split', 'sqrt', 'square', 'squeeze', 'stack', 'std', 'str', 'str0', 'str_', 'string_', 'subtract', 'sum', 'swapaxes', 'sys', 'take', 'take_along_axis', 'tan', 'tanh', 'tensordot', 'test', 'testing', 'tile', 'timedelta64', 'trace', 'tracemalloc_domain', 'transpose', 'trapz', 'tri', 'tril', 'tril_indices', 'tril_indices_from', 'trim_zeros', 'triu', 'triu_indices', 'triu_indices_from', 'true_divide', 'trunc', 'typeDict', 'typeNA', 'typecodes', 'typename', 'ubyte', 'ufunc', 'uint', 'uint0', 'uint16', 'uint32', 'uint64', 'uint8', 'uintc', 'uintp', 'ulonglong', 'unicode', 'unicode_', 'union1d', 'unique', 'unpackbits', 'unravel_index', 'unsignedinteger', 'unwrap', 'ushort', 'vander', 'var', 'vdot', 'vectorize', 'version', 'void', 'void0', 'vsplit', 'vstack', 'warnings', 'where', 'who', 'zeros', 'zeros_like']\n"
          ],
          "name": "stdout"
        }
      ]
    },
    {
      "cell_type": "code",
      "metadata": {
        "id": "uRCkBDfTD5Wi",
        "colab": {
          "base_uri": "https://localhost:8080/"
        },
        "outputId": "b3939392-b303-4ba1-b020-de3efb83688d"
      },
      "source": [
        "help(np.array)"
      ],
      "execution_count": null,
      "outputs": [
        {
          "output_type": "stream",
          "text": [
            "Help on built-in function array in module numpy:\n",
            "\n",
            "array(...)\n",
            "    array(object, dtype=None, copy=True, order='K', subok=False, ndmin=0)\n",
            "    \n",
            "    Create an array.\n",
            "    \n",
            "    Parameters\n",
            "    ----------\n",
            "    object : array_like\n",
            "        An array, any object exposing the array interface, an object whose\n",
            "        __array__ method returns an array, or any (nested) sequence.\n",
            "    dtype : data-type, optional\n",
            "        The desired data-type for the array.  If not given, then the type will\n",
            "        be determined as the minimum type required to hold the objects in the\n",
            "        sequence.\n",
            "    copy : bool, optional\n",
            "        If true (default), then the object is copied.  Otherwise, a copy will\n",
            "        only be made if __array__ returns a copy, if obj is a nested sequence,\n",
            "        or if a copy is needed to satisfy any of the other requirements\n",
            "        (`dtype`, `order`, etc.).\n",
            "    order : {'K', 'A', 'C', 'F'}, optional\n",
            "        Specify the memory layout of the array. If object is not an array, the\n",
            "        newly created array will be in C order (row major) unless 'F' is\n",
            "        specified, in which case it will be in Fortran order (column major).\n",
            "        If object is an array the following holds.\n",
            "    \n",
            "        ===== ========= ===================================================\n",
            "        order  no copy                     copy=True\n",
            "        ===== ========= ===================================================\n",
            "        'K'   unchanged F & C order preserved, otherwise most similar order\n",
            "        'A'   unchanged F order if input is F and not C, otherwise C order\n",
            "        'C'   C order   C order\n",
            "        'F'   F order   F order\n",
            "        ===== ========= ===================================================\n",
            "    \n",
            "        When ``copy=False`` and a copy is made for other reasons, the result is\n",
            "        the same as if ``copy=True``, with some exceptions for `A`, see the\n",
            "        Notes section. The default order is 'K'.\n",
            "    subok : bool, optional\n",
            "        If True, then sub-classes will be passed-through, otherwise\n",
            "        the returned array will be forced to be a base-class array (default).\n",
            "    ndmin : int, optional\n",
            "        Specifies the minimum number of dimensions that the resulting\n",
            "        array should have.  Ones will be pre-pended to the shape as\n",
            "        needed to meet this requirement.\n",
            "    \n",
            "    Returns\n",
            "    -------\n",
            "    out : ndarray\n",
            "        An array object satisfying the specified requirements.\n",
            "    \n",
            "    See Also\n",
            "    --------\n",
            "    empty_like : Return an empty array with shape and type of input.\n",
            "    ones_like : Return an array of ones with shape and type of input.\n",
            "    zeros_like : Return an array of zeros with shape and type of input.\n",
            "    full_like : Return a new array with shape of input filled with value.\n",
            "    empty : Return a new uninitialized array.\n",
            "    ones : Return a new array setting values to one.\n",
            "    zeros : Return a new array setting values to zero.\n",
            "    full : Return a new array of given shape filled with value.\n",
            "    \n",
            "    \n",
            "    Notes\n",
            "    -----\n",
            "    When order is 'A' and `object` is an array in neither 'C' nor 'F' order,\n",
            "    and a copy is forced by a change in dtype, then the order of the result is\n",
            "    not necessarily 'C' as expected. This is likely a bug.\n",
            "    \n",
            "    Examples\n",
            "    --------\n",
            "    >>> np.array([1, 2, 3])\n",
            "    array([1, 2, 3])\n",
            "    \n",
            "    Upcasting:\n",
            "    \n",
            "    >>> np.array([1, 2, 3.0])\n",
            "    array([ 1.,  2.,  3.])\n",
            "    \n",
            "    More than one dimension:\n",
            "    \n",
            "    >>> np.array([[1, 2], [3, 4]])\n",
            "    array([[1, 2],\n",
            "           [3, 4]])\n",
            "    \n",
            "    Minimum dimensions 2:\n",
            "    \n",
            "    >>> np.array([1, 2, 3], ndmin=2)\n",
            "    array([[1, 2, 3]])\n",
            "    \n",
            "    Type provided:\n",
            "    \n",
            "    >>> np.array([1, 2, 3], dtype=complex)\n",
            "    array([ 1.+0.j,  2.+0.j,  3.+0.j])\n",
            "    \n",
            "    Data-type consisting of more than one element:\n",
            "    \n",
            "    >>> x = np.array([(1,2),(3,4)],dtype=[('a','<i4'),('b','<i4')])\n",
            "    >>> x['a']\n",
            "    array([1, 3])\n",
            "    \n",
            "    Creating an array from sub-classes:\n",
            "    \n",
            "    >>> np.array(np.mat('1 2; 3 4'))\n",
            "    array([[1, 2],\n",
            "           [3, 4]])\n",
            "    \n",
            "    >>> np.array(np.mat('1 2; 3 4'), subok=True)\n",
            "    matrix([[1, 2],\n",
            "            [3, 4]])\n",
            "\n"
          ],
          "name": "stdout"
        }
      ]
    },
    {
      "cell_type": "markdown",
      "metadata": {
        "id": "bco5fKAiE0e_"
      },
      "source": [
        "1D Array"
      ]
    },
    {
      "cell_type": "code",
      "metadata": {
        "id": "SuZpmlY-EdYn",
        "colab": {
          "base_uri": "https://localhost:8080/"
        },
        "outputId": "5446a360-3ab5-4da2-edda-9ceb16a7473f"
      },
      "source": [
        "x = np.array([1, 3])\n",
        "x"
      ],
      "execution_count": null,
      "outputs": [
        {
          "output_type": "execute_result",
          "data": {
            "text/plain": [
              "array([1, 3])"
            ]
          },
          "metadata": {
            "tags": []
          },
          "execution_count": 7
        }
      ]
    },
    {
      "cell_type": "code",
      "metadata": {
        "id": "xnK0DmlpFgDb",
        "colab": {
          "base_uri": "https://localhost:8080/"
        },
        "outputId": "55ef9374-b16e-47da-fcd5-ac219cd286bf"
      },
      "source": [
        "print(x)"
      ],
      "execution_count": null,
      "outputs": [
        {
          "output_type": "stream",
          "text": [
            "[1 3]\n"
          ],
          "name": "stdout"
        }
      ]
    },
    {
      "cell_type": "code",
      "metadata": {
        "id": "ntrhXvxbFlL2",
        "colab": {
          "base_uri": "https://localhost:8080/"
        },
        "outputId": "20f2f8cb-acf0-4f24-9c09-eed7881104c3"
      },
      "source": [
        "type(x)"
      ],
      "execution_count": null,
      "outputs": [
        {
          "output_type": "execute_result",
          "data": {
            "text/plain": [
              "numpy.ndarray"
            ]
          },
          "metadata": {
            "tags": []
          },
          "execution_count": 9
        }
      ]
    },
    {
      "cell_type": "code",
      "metadata": {
        "id": "4UzbwBncFpcS",
        "colab": {
          "base_uri": "https://localhost:8080/"
        },
        "outputId": "37208ec4-5fe2-48a4-a8c8-a72800726b3c"
      },
      "source": [
        "x.ndim #wymiar tablicy"
      ],
      "execution_count": null,
      "outputs": [
        {
          "output_type": "execute_result",
          "data": {
            "text/plain": [
              "1"
            ]
          },
          "metadata": {
            "tags": []
          },
          "execution_count": 10
        }
      ]
    },
    {
      "cell_type": "code",
      "metadata": {
        "id": "mIOgjz0aFx-7",
        "colab": {
          "base_uri": "https://localhost:8080/"
        },
        "outputId": "899a698a-3375-43ff-9890-8db7ebf336d8"
      },
      "source": [
        "x.shape"
      ],
      "execution_count": null,
      "outputs": [
        {
          "output_type": "execute_result",
          "data": {
            "text/plain": [
              "(2,)"
            ]
          },
          "metadata": {
            "tags": []
          },
          "execution_count": 11
        }
      ]
    },
    {
      "cell_type": "code",
      "metadata": {
        "id": "DofYkM68F1iV",
        "colab": {
          "base_uri": "https://localhost:8080/"
        },
        "outputId": "6d4b2b83-328f-47a0-c3a7-e7a197df27dc"
      },
      "source": [
        "x.size"
      ],
      "execution_count": null,
      "outputs": [
        {
          "output_type": "execute_result",
          "data": {
            "text/plain": [
              "2"
            ]
          },
          "metadata": {
            "tags": []
          },
          "execution_count": 12
        }
      ]
    },
    {
      "cell_type": "code",
      "metadata": {
        "id": "72GAJd7OF9ZB",
        "colab": {
          "base_uri": "https://localhost:8080/"
        },
        "outputId": "d243af46-3ca3-4b1e-b37e-182ac8f92c13"
      },
      "source": [
        "x.dtype"
      ],
      "execution_count": null,
      "outputs": [
        {
          "output_type": "execute_result",
          "data": {
            "text/plain": [
              "dtype('int64')"
            ]
          },
          "metadata": {
            "tags": []
          },
          "execution_count": 13
        }
      ]
    },
    {
      "cell_type": "code",
      "metadata": {
        "id": "DrDY0DNzGORi",
        "colab": {
          "base_uri": "https://localhost:8080/"
        },
        "outputId": "77e45473-cb51-4fbe-c015-b85716525416"
      },
      "source": [
        "x = np.array([1.3, 2.3, 1.4])\n",
        "print(x)"
      ],
      "execution_count": null,
      "outputs": [
        {
          "output_type": "stream",
          "text": [
            "[1.3 2.3 1.4]\n"
          ],
          "name": "stdout"
        }
      ]
    },
    {
      "cell_type": "code",
      "metadata": {
        "id": "z3YuFlBmG3Hy",
        "colab": {
          "base_uri": "https://localhost:8080/"
        },
        "outputId": "745868a1-9326-4d73-8313-d5e37488a773"
      },
      "source": [
        "x.dtype"
      ],
      "execution_count": null,
      "outputs": [
        {
          "output_type": "execute_result",
          "data": {
            "text/plain": [
              "dtype('float64')"
            ]
          },
          "metadata": {
            "tags": []
          },
          "execution_count": 15
        }
      ]
    },
    {
      "cell_type": "markdown",
      "metadata": {
        "id": "NZyCxq4PJ_RX"
      },
      "source": [
        "2D Array"
      ]
    },
    {
      "cell_type": "code",
      "metadata": {
        "id": "uV6t3RS-KBOq",
        "colab": {
          "base_uri": "https://localhost:8080/"
        },
        "outputId": "a354ec8d-1758-4e64-b9e3-6e8262573858"
      },
      "source": [
        "x = np.array([[1,2], [-3, 1]])\n",
        "x"
      ],
      "execution_count": null,
      "outputs": [
        {
          "output_type": "execute_result",
          "data": {
            "text/plain": [
              "array([[ 1,  2],\n",
              "       [-3,  1]])"
            ]
          },
          "metadata": {
            "tags": []
          },
          "execution_count": 17
        }
      ]
    },
    {
      "cell_type": "code",
      "metadata": {
        "id": "emfxQzYPKLnb",
        "colab": {
          "base_uri": "https://localhost:8080/"
        },
        "outputId": "eb47788f-7069-44d7-9a19-8e91ff823322"
      },
      "source": [
        "x.ndim"
      ],
      "execution_count": null,
      "outputs": [
        {
          "output_type": "execute_result",
          "data": {
            "text/plain": [
              "2"
            ]
          },
          "metadata": {
            "tags": []
          },
          "execution_count": 19
        }
      ]
    },
    {
      "cell_type": "code",
      "metadata": {
        "id": "OrIEmhYDKPYq",
        "colab": {
          "base_uri": "https://localhost:8080/"
        },
        "outputId": "6c61d550-cff3-481b-ff43-5432a728b577"
      },
      "source": [
        "x.shape"
      ],
      "execution_count": null,
      "outputs": [
        {
          "output_type": "execute_result",
          "data": {
            "text/plain": [
              "(2, 2)"
            ]
          },
          "metadata": {
            "tags": []
          },
          "execution_count": 20
        }
      ]
    },
    {
      "cell_type": "code",
      "metadata": {
        "id": "OpFy13XbKSd8",
        "colab": {
          "base_uri": "https://localhost:8080/"
        },
        "outputId": "45d9079f-b227-4aa5-925c-52706b250599"
      },
      "source": [
        "x = np.array([[1, 2, 3], [4, 2, 1]])\n",
        "print(x)"
      ],
      "execution_count": null,
      "outputs": [
        {
          "output_type": "stream",
          "text": [
            "[[1 2 3]\n",
            " [4 2 1]]\n"
          ],
          "name": "stdout"
        }
      ]
    },
    {
      "cell_type": "code",
      "metadata": {
        "id": "7GcOLqTVKwpX",
        "colab": {
          "base_uri": "https://localhost:8080/"
        },
        "outputId": "910f5b68-4106-4435-f3ab-6df1bd1f4915"
      },
      "source": [
        "x.shape"
      ],
      "execution_count": null,
      "outputs": [
        {
          "output_type": "execute_result",
          "data": {
            "text/plain": [
              "(2, 3)"
            ]
          },
          "metadata": {
            "tags": []
          },
          "execution_count": 23
        }
      ]
    },
    {
      "cell_type": "markdown",
      "metadata": {
        "id": "QnTal_8VLDfK"
      },
      "source": [
        "3D Array"
      ]
    },
    {
      "cell_type": "code",
      "metadata": {
        "id": "sCrZD7g2LHCO",
        "colab": {
          "base_uri": "https://localhost:8080/"
        },
        "outputId": "641c2f22-8fac-4400-e245-2afb7932bd96"
      },
      "source": [
        "x = np.array(\n",
        "    [\n",
        "     [[4, 3, 1],\n",
        "      [3, 1, 2]],\n",
        "     \n",
        "     [[4, 1, 3],\n",
        "      [4, 2, 1]],\n",
        "     \n",
        "     [[4, 3, 1],\n",
        "      [3, 1, 2]],\n",
        "    ]\n",
        ")\n",
        "x"
      ],
      "execution_count": null,
      "outputs": [
        {
          "output_type": "execute_result",
          "data": {
            "text/plain": [
              "array([[[4, 3, 1],\n",
              "        [3, 1, 2]],\n",
              "\n",
              "       [[4, 1, 3],\n",
              "        [4, 2, 1]],\n",
              "\n",
              "       [[4, 3, 1],\n",
              "        [3, 1, 2]]])"
            ]
          },
          "metadata": {
            "tags": []
          },
          "execution_count": 28
        }
      ]
    },
    {
      "cell_type": "code",
      "metadata": {
        "id": "3r-9q-QgLmnQ",
        "colab": {
          "base_uri": "https://localhost:8080/"
        },
        "outputId": "07b51b3a-19f7-4401-976b-d0167d29857c"
      },
      "source": [
        "x.ndim"
      ],
      "execution_count": null,
      "outputs": [
        {
          "output_type": "execute_result",
          "data": {
            "text/plain": [
              "3"
            ]
          },
          "metadata": {
            "tags": []
          },
          "execution_count": 29
        }
      ]
    },
    {
      "cell_type": "code",
      "metadata": {
        "id": "raCK3zdnLsn6",
        "colab": {
          "base_uri": "https://localhost:8080/"
        },
        "outputId": "aa055f2a-8262-46cd-d0bf-c0c2559967e0"
      },
      "source": [
        "x.shape"
      ],
      "execution_count": null,
      "outputs": [
        {
          "output_type": "execute_result",
          "data": {
            "text/plain": [
              "(3, 2, 3)"
            ]
          },
          "metadata": {
            "tags": []
          },
          "execution_count": 30
        }
      ]
    },
    {
      "cell_type": "markdown",
      "metadata": {
        "id": "vAo0TOadMTTe"
      },
      "source": [
        "### <a name='a2'></a> Typy danych"
      ]
    },
    {
      "cell_type": "code",
      "metadata": {
        "colab": {
          "base_uri": "https://localhost:8080/"
        },
        "id": "B8L_tcL2Mz0x",
        "outputId": "98b851e9-b108-4a21-b9df-ce8a3362dd31"
      },
      "source": [
        "A = np.array([1, 2, 3])\n",
        "A.dtype"
      ],
      "execution_count": null,
      "outputs": [
        {
          "output_type": "execute_result",
          "data": {
            "text/plain": [
              "dtype('int64')"
            ]
          },
          "metadata": {
            "tags": []
          },
          "execution_count": 2
        }
      ]
    },
    {
      "cell_type": "code",
      "metadata": {
        "colab": {
          "base_uri": "https://localhost:8080/"
        },
        "id": "zRUvR4IwOSAB",
        "outputId": "f50f05e5-27b5-4f8e-bf74-be11c965af3b"
      },
      "source": [
        "A = np.array([1.0, 2.3, 3.3])\n",
        "A.dtype"
      ],
      "execution_count": null,
      "outputs": [
        {
          "output_type": "execute_result",
          "data": {
            "text/plain": [
              "dtype('float64')"
            ]
          },
          "metadata": {
            "tags": []
          },
          "execution_count": 3
        }
      ]
    },
    {
      "cell_type": "code",
      "metadata": {
        "colab": {
          "base_uri": "https://localhost:8080/"
        },
        "id": "N1fk_DnDPLQe",
        "outputId": "55384474-70fd-4af0-b9ce-f1d8011eab42"
      },
      "source": [
        "A = np.array([1, 2, 3], dtype='float')\n",
        "A.dtype"
      ],
      "execution_count": null,
      "outputs": [
        {
          "output_type": "execute_result",
          "data": {
            "text/plain": [
              "dtype('float64')"
            ]
          },
          "metadata": {
            "tags": []
          },
          "execution_count": 7
        }
      ]
    },
    {
      "cell_type": "code",
      "metadata": {
        "colab": {
          "base_uri": "https://localhost:8080/"
        },
        "id": "QaQEQJxLPSJT",
        "outputId": "acddde40-d7d8-43e6-ef7e-b9fc523c12dd"
      },
      "source": [
        "A = np.array([1, 2, 3], dtype='complex')\n",
        "A.dtype"
      ],
      "execution_count": null,
      "outputs": [
        {
          "output_type": "execute_result",
          "data": {
            "text/plain": [
              "dtype('complex128')"
            ]
          },
          "metadata": {
            "tags": []
          },
          "execution_count": 8
        }
      ]
    },
    {
      "cell_type": "code",
      "metadata": {
        "colab": {
          "base_uri": "https://localhost:8080/"
        },
        "id": "xXpkjEkfPjV_",
        "outputId": "4f33a0d4-c7d4-49a8-bd18-7ded3ebcb003"
      },
      "source": [
        "A"
      ],
      "execution_count": null,
      "outputs": [
        {
          "output_type": "execute_result",
          "data": {
            "text/plain": [
              "array([1.+0.j, 2.+0.j, 3.+0.j])"
            ]
          },
          "metadata": {
            "tags": []
          },
          "execution_count": 9
        }
      ]
    },
    {
      "cell_type": "code",
      "metadata": {
        "colab": {
          "base_uri": "https://localhost:8080/"
        },
        "id": "yzQF5CFlPkdy",
        "outputId": "505044ef-6eaf-4e97-f1d7-4a0ed940f581"
      },
      "source": [
        "A = np.array([1.0, 2.7, 3.3], dtype='int')\n",
        "A.dtype"
      ],
      "execution_count": null,
      "outputs": [
        {
          "output_type": "execute_result",
          "data": {
            "text/plain": [
              "dtype('int64')"
            ]
          },
          "metadata": {
            "tags": []
          },
          "execution_count": 10
        }
      ]
    },
    {
      "cell_type": "code",
      "metadata": {
        "colab": {
          "base_uri": "https://localhost:8080/"
        },
        "id": "vLJ8Gl3sP_70",
        "outputId": "b3c541bb-2299-444c-9f6c-0d6eac4d5776"
      },
      "source": [
        "A"
      ],
      "execution_count": null,
      "outputs": [
        {
          "output_type": "execute_result",
          "data": {
            "text/plain": [
              "array([1, 2, 3])"
            ]
          },
          "metadata": {
            "tags": []
          },
          "execution_count": 11
        }
      ]
    },
    {
      "cell_type": "code",
      "metadata": {
        "colab": {
          "base_uri": "https://localhost:8080/"
        },
        "id": "tX9cb5iFQBaB",
        "outputId": "67e9d091-11f0-4805-90b2-782b9d32df76"
      },
      "source": [
        "A = np.array([True, False])\n",
        "A.dtype"
      ],
      "execution_count": null,
      "outputs": [
        {
          "output_type": "execute_result",
          "data": {
            "text/plain": [
              "dtype('bool')"
            ]
          },
          "metadata": {
            "tags": []
          },
          "execution_count": 12
        }
      ]
    },
    {
      "cell_type": "code",
      "metadata": {
        "colab": {
          "base_uri": "https://localhost:8080/"
        },
        "id": "QdUb9f2WQlP5",
        "outputId": "ba495acb-e9ab-422e-91af-7629fc032fc4"
      },
      "source": [
        "A = np.array([24, 100, 230], dtype=np.int8)\n",
        "A.dtype"
      ],
      "execution_count": null,
      "outputs": [
        {
          "output_type": "execute_result",
          "data": {
            "text/plain": [
              "dtype('int8')"
            ]
          },
          "metadata": {
            "tags": []
          },
          "execution_count": 13
        }
      ]
    },
    {
      "cell_type": "code",
      "metadata": {
        "colab": {
          "base_uri": "https://localhost:8080/"
        },
        "id": "Uaz1KOyyQ3kO",
        "outputId": "b12e1157-ceae-4e1e-de77-2300aad9ef43"
      },
      "source": [
        "A = np.array([24, 100, 230], dtype=np.uint8)\n",
        "A.dtype"
      ],
      "execution_count": null,
      "outputs": [
        {
          "output_type": "execute_result",
          "data": {
            "text/plain": [
              "dtype('uint8')"
            ]
          },
          "metadata": {
            "tags": []
          },
          "execution_count": 14
        }
      ]
    },
    {
      "cell_type": "markdown",
      "metadata": {
        "id": "BGKjFSpmXAhn"
      },
      "source": [
        "### <a name='a3'></a> Tworzenie tablic"
      ]
    },
    {
      "cell_type": "code",
      "metadata": {
        "colab": {
          "base_uri": "https://localhost:8080/"
        },
        "id": "RvINa0buXRJU",
        "outputId": "ec6c6de2-0a44-45c2-e9d3-66367aab3a47"
      },
      "source": [
        "np.zeros(shape=(4, 10))"
      ],
      "execution_count": null,
      "outputs": [
        {
          "output_type": "execute_result",
          "data": {
            "text/plain": [
              "array([[0., 0., 0., 0., 0., 0., 0., 0., 0., 0.],\n",
              "       [0., 0., 0., 0., 0., 0., 0., 0., 0., 0.],\n",
              "       [0., 0., 0., 0., 0., 0., 0., 0., 0., 0.],\n",
              "       [0., 0., 0., 0., 0., 0., 0., 0., 0., 0.]])"
            ]
          },
          "metadata": {
            "tags": []
          },
          "execution_count": 15
        }
      ]
    },
    {
      "cell_type": "code",
      "metadata": {
        "colab": {
          "base_uri": "https://localhost:8080/"
        },
        "id": "hTF1YunsXZsl",
        "outputId": "e85b29d3-67b2-4e34-cd8a-192ecf365189"
      },
      "source": [
        "np.zeros(shape=(4, 10), dtype='int')"
      ],
      "execution_count": null,
      "outputs": [
        {
          "output_type": "execute_result",
          "data": {
            "text/plain": [
              "array([[0, 0, 0, 0, 0, 0, 0, 0, 0, 0],\n",
              "       [0, 0, 0, 0, 0, 0, 0, 0, 0, 0],\n",
              "       [0, 0, 0, 0, 0, 0, 0, 0, 0, 0],\n",
              "       [0, 0, 0, 0, 0, 0, 0, 0, 0, 0]])"
            ]
          },
          "metadata": {
            "tags": []
          },
          "execution_count": 16
        }
      ]
    },
    {
      "cell_type": "code",
      "metadata": {
        "colab": {
          "base_uri": "https://localhost:8080/"
        },
        "id": "fCswzl9xXgq_",
        "outputId": "ab63e891-7562-47c8-d41b-321af8408028"
      },
      "source": [
        "np.ones(shape=(5,5))"
      ],
      "execution_count": null,
      "outputs": [
        {
          "output_type": "execute_result",
          "data": {
            "text/plain": [
              "array([[1., 1., 1., 1., 1.],\n",
              "       [1., 1., 1., 1., 1.],\n",
              "       [1., 1., 1., 1., 1.],\n",
              "       [1., 1., 1., 1., 1.],\n",
              "       [1., 1., 1., 1., 1.]])"
            ]
          },
          "metadata": {
            "tags": []
          },
          "execution_count": 17
        }
      ]
    },
    {
      "cell_type": "code",
      "metadata": {
        "colab": {
          "base_uri": "https://localhost:8080/"
        },
        "id": "W-A3Vs94Xxet",
        "outputId": "0d1820c7-0b25-4b6c-d66e-15b2c8f6a4ac"
      },
      "source": [
        "np.ones(shape=(5,5), dtype='int')"
      ],
      "execution_count": null,
      "outputs": [
        {
          "output_type": "execute_result",
          "data": {
            "text/plain": [
              "array([[1, 1, 1, 1, 1],\n",
              "       [1, 1, 1, 1, 1],\n",
              "       [1, 1, 1, 1, 1],\n",
              "       [1, 1, 1, 1, 1],\n",
              "       [1, 1, 1, 1, 1]])"
            ]
          },
          "metadata": {
            "tags": []
          },
          "execution_count": 18
        }
      ]
    },
    {
      "cell_type": "code",
      "metadata": {
        "colab": {
          "base_uri": "https://localhost:8080/"
        },
        "id": "JmPAt1bEX0i0",
        "outputId": "b8496771-a0e1-4f38-b239-cafa5f45e065"
      },
      "source": [
        "np.full(shape=(3, 3), fill_value=4, dtype='int')"
      ],
      "execution_count": null,
      "outputs": [
        {
          "output_type": "execute_result",
          "data": {
            "text/plain": [
              "array([[4, 4, 4],\n",
              "       [4, 4, 4],\n",
              "       [4, 4, 4]])"
            ]
          },
          "metadata": {
            "tags": []
          },
          "execution_count": 19
        }
      ]
    },
    {
      "cell_type": "code",
      "metadata": {
        "colab": {
          "base_uri": "https://localhost:8080/"
        },
        "id": "VMlIFTMoYCsl",
        "outputId": "adfa5c97-85f7-4aa0-abd2-c2b465e83b56"
      },
      "source": [
        "np.arange(10)"
      ],
      "execution_count": null,
      "outputs": [
        {
          "output_type": "execute_result",
          "data": {
            "text/plain": [
              "array([0, 1, 2, 3, 4, 5, 6, 7, 8, 9])"
            ]
          },
          "metadata": {
            "tags": []
          },
          "execution_count": 20
        }
      ]
    },
    {
      "cell_type": "code",
      "metadata": {
        "colab": {
          "base_uri": "https://localhost:8080/"
        },
        "id": "BZY5PvOKYR8o",
        "outputId": "663621b2-5dcd-4972-e76f-dc09e716fd5f"
      },
      "source": [
        "np.arange(start=10, stop=100, step=10)"
      ],
      "execution_count": null,
      "outputs": [
        {
          "output_type": "execute_result",
          "data": {
            "text/plain": [
              "array([10, 20, 30, 40, 50, 60, 70, 80, 90])"
            ]
          },
          "metadata": {
            "tags": []
          },
          "execution_count": 22
        }
      ]
    },
    {
      "cell_type": "code",
      "metadata": {
        "colab": {
          "base_uri": "https://localhost:8080/"
        },
        "id": "YHqdX3InYmGS",
        "outputId": "65453898-0033-4212-c537-96d8449c1c7d"
      },
      "source": [
        "np.arange(start=100, stop=10, step=-10)"
      ],
      "execution_count": null,
      "outputs": [
        {
          "output_type": "execute_result",
          "data": {
            "text/plain": [
              "array([100,  90,  80,  70,  60,  50,  40,  30,  20])"
            ]
          },
          "metadata": {
            "tags": []
          },
          "execution_count": 23
        }
      ]
    },
    {
      "cell_type": "code",
      "metadata": {
        "colab": {
          "base_uri": "https://localhost:8080/"
        },
        "id": "wvdW8goHZeIq",
        "outputId": "4f081aa4-db5f-435f-ee4e-cbfcc8f2f4d7"
      },
      "source": [
        "np.arange(start=0, stop=1, step=0.05)"
      ],
      "execution_count": null,
      "outputs": [
        {
          "output_type": "execute_result",
          "data": {
            "text/plain": [
              "array([0.  , 0.05, 0.1 , 0.15, 0.2 , 0.25, 0.3 , 0.35, 0.4 , 0.45, 0.5 ,\n",
              "       0.55, 0.6 , 0.65, 0.7 , 0.75, 0.8 , 0.85, 0.9 , 0.95])"
            ]
          },
          "metadata": {
            "tags": []
          },
          "execution_count": 24
        }
      ]
    },
    {
      "cell_type": "code",
      "metadata": {
        "colab": {
          "base_uri": "https://localhost:8080/"
        },
        "id": "-NaWgffDZmT4",
        "outputId": "00a80165-5e12-4f2d-9119-7abdd2defb1f"
      },
      "source": [
        "np.linspace(start=0, stop=1, num=10)"
      ],
      "execution_count": null,
      "outputs": [
        {
          "output_type": "execute_result",
          "data": {
            "text/plain": [
              "array([0.        , 0.11111111, 0.22222222, 0.33333333, 0.44444444,\n",
              "       0.55555556, 0.66666667, 0.77777778, 0.88888889, 1.        ])"
            ]
          },
          "metadata": {
            "tags": []
          },
          "execution_count": 25
        }
      ]
    },
    {
      "cell_type": "code",
      "metadata": {
        "colab": {
          "base_uri": "https://localhost:8080/"
        },
        "id": "-FHaoKCTZ4Nj",
        "outputId": "8a7c20a5-5df9-43ee-98b5-0396152f0d92"
      },
      "source": [
        "A = np.arange(15)\n",
        "A"
      ],
      "execution_count": null,
      "outputs": [
        {
          "output_type": "execute_result",
          "data": {
            "text/plain": [
              "array([ 0,  1,  2,  3,  4,  5,  6,  7,  8,  9, 10, 11, 12, 13, 14])"
            ]
          },
          "metadata": {
            "tags": []
          },
          "execution_count": 27
        }
      ]
    },
    {
      "cell_type": "code",
      "metadata": {
        "colab": {
          "base_uri": "https://localhost:8080/"
        },
        "id": "0gYhUWx4aa-B",
        "outputId": "074a2efe-fe55-4733-bdb2-ec2b13b068d1"
      },
      "source": [
        "A.reshape((3, 5))"
      ],
      "execution_count": null,
      "outputs": [
        {
          "output_type": "execute_result",
          "data": {
            "text/plain": [
              "array([[ 0,  1,  2,  3,  4],\n",
              "       [ 5,  6,  7,  8,  9],\n",
              "       [10, 11, 12, 13, 14]])"
            ]
          },
          "metadata": {
            "tags": []
          },
          "execution_count": 28
        }
      ]
    },
    {
      "cell_type": "code",
      "metadata": {
        "colab": {
          "base_uri": "https://localhost:8080/"
        },
        "id": "nFHY4OwQbLNd",
        "outputId": "cebf8dd8-8f3b-4fdb-a8dc-a05d77ae7eca"
      },
      "source": [
        "A.reshape((3, -1))"
      ],
      "execution_count": null,
      "outputs": [
        {
          "output_type": "execute_result",
          "data": {
            "text/plain": [
              "array([[ 0,  1,  2,  3,  4],\n",
              "       [ 5,  6,  7,  8,  9],\n",
              "       [10, 11, 12, 13, 14]])"
            ]
          },
          "metadata": {
            "tags": []
          },
          "execution_count": 29
        }
      ]
    },
    {
      "cell_type": "code",
      "metadata": {
        "colab": {
          "base_uri": "https://localhost:8080/"
        },
        "id": "yqspD2tAbehd",
        "outputId": "95cfcf55-3ce8-49fa-fb89-5e78ef8f3eee"
      },
      "source": [
        "A.reshape((-1, 3))"
      ],
      "execution_count": null,
      "outputs": [
        {
          "output_type": "execute_result",
          "data": {
            "text/plain": [
              "array([[ 0,  1,  2],\n",
              "       [ 3,  4,  5],\n",
              "       [ 6,  7,  8],\n",
              "       [ 9, 10, 11],\n",
              "       [12, 13, 14]])"
            ]
          },
          "metadata": {
            "tags": []
          },
          "execution_count": 30
        }
      ]
    },
    {
      "cell_type": "markdown",
      "metadata": {
        "id": "ccWv5DoudY0m"
      },
      "source": [
        "### <a name='a4'></a> Podstawowe operacje na tablicach"
      ]
    },
    {
      "cell_type": "code",
      "metadata": {
        "colab": {
          "base_uri": "https://localhost:8080/"
        },
        "id": "bvFoVbuoddNy",
        "outputId": "d139d7ac-7ea0-4407-d3fc-a150bcc95c40"
      },
      "source": [
        "A = np.array([3, 1, 4, 2])\n",
        "B = np.array([3, -1, 3, 2])\n",
        "print(A)\n",
        "print(B)"
      ],
      "execution_count": null,
      "outputs": [
        {
          "output_type": "stream",
          "text": [
            "[3 1 4 2]\n",
            "[ 3 -1  3  2]\n"
          ],
          "name": "stdout"
        }
      ]
    },
    {
      "cell_type": "code",
      "metadata": {
        "colab": {
          "base_uri": "https://localhost:8080/"
        },
        "id": "cBvzb6NpdvGm",
        "outputId": "2c2a6e5a-dc8c-4c83-ebfa-124cf883600c"
      },
      "source": [
        "A + B"
      ],
      "execution_count": null,
      "outputs": [
        {
          "output_type": "execute_result",
          "data": {
            "text/plain": [
              "array([6, 0, 7, 4])"
            ]
          },
          "metadata": {
            "tags": []
          },
          "execution_count": 32
        }
      ]
    },
    {
      "cell_type": "code",
      "metadata": {
        "colab": {
          "base_uri": "https://localhost:8080/"
        },
        "id": "BfxgzoZqd13b",
        "outputId": "a5ecc4c5-fea8-43f3-f1b0-353980c9fbc1"
      },
      "source": [
        "A - B"
      ],
      "execution_count": null,
      "outputs": [
        {
          "output_type": "execute_result",
          "data": {
            "text/plain": [
              "array([0, 2, 1, 0])"
            ]
          },
          "metadata": {
            "tags": []
          },
          "execution_count": 33
        }
      ]
    },
    {
      "cell_type": "code",
      "metadata": {
        "colab": {
          "base_uri": "https://localhost:8080/"
        },
        "id": "RIeP9dh_d21k",
        "outputId": "4a878986-23c4-4395-aacc-9372a3e03886"
      },
      "source": [
        "A * B"
      ],
      "execution_count": null,
      "outputs": [
        {
          "output_type": "execute_result",
          "data": {
            "text/plain": [
              "array([ 9, -1, 12,  4])"
            ]
          },
          "metadata": {
            "tags": []
          },
          "execution_count": 34
        }
      ]
    },
    {
      "cell_type": "code",
      "metadata": {
        "colab": {
          "base_uri": "https://localhost:8080/"
        },
        "id": "-pc-FCPrd552",
        "outputId": "451a9a8c-0205-4769-9e6b-36f629061e56"
      },
      "source": [
        "A / B"
      ],
      "execution_count": null,
      "outputs": [
        {
          "output_type": "execute_result",
          "data": {
            "text/plain": [
              "array([ 1.        , -1.        ,  1.33333333,  1.        ])"
            ]
          },
          "metadata": {
            "tags": []
          },
          "execution_count": 35
        }
      ]
    },
    {
      "cell_type": "code",
      "metadata": {
        "colab": {
          "base_uri": "https://localhost:8080/"
        },
        "id": "W5gAdbPtekSo",
        "outputId": "b862f056-701f-4db1-9fb7-bd12e9f7392b"
      },
      "source": [
        "np.add(A, B)"
      ],
      "execution_count": null,
      "outputs": [
        {
          "output_type": "execute_result",
          "data": {
            "text/plain": [
              "array([6, 0, 7, 4])"
            ]
          },
          "metadata": {
            "tags": []
          },
          "execution_count": 39
        }
      ]
    },
    {
      "cell_type": "code",
      "metadata": {
        "colab": {
          "base_uri": "https://localhost:8080/"
        },
        "id": "bLBzqsrkevPZ",
        "outputId": "5be3ce0d-e4d3-4d18-e289-84e2cd4d658d"
      },
      "source": [
        "np.subtract(A, B)"
      ],
      "execution_count": null,
      "outputs": [
        {
          "output_type": "execute_result",
          "data": {
            "text/plain": [
              "array([0, 2, 1, 0])"
            ]
          },
          "metadata": {
            "tags": []
          },
          "execution_count": 40
        }
      ]
    },
    {
      "cell_type": "code",
      "metadata": {
        "colab": {
          "base_uri": "https://localhost:8080/"
        },
        "id": "44tVih98fAUV",
        "outputId": "7dfafd07-9876-4cf2-9983-5aed233113d7"
      },
      "source": [
        "np.multiply(A, B)"
      ],
      "execution_count": null,
      "outputs": [
        {
          "output_type": "execute_result",
          "data": {
            "text/plain": [
              "array([ 9, -1, 12,  4])"
            ]
          },
          "metadata": {
            "tags": []
          },
          "execution_count": 41
        }
      ]
    },
    {
      "cell_type": "code",
      "metadata": {
        "colab": {
          "base_uri": "https://localhost:8080/"
        },
        "id": "PGqlsaVzfJ1j",
        "outputId": "22e8fcfc-d31a-4429-9451-4a5c37abceda"
      },
      "source": [
        "np.divide(A, B)"
      ],
      "execution_count": null,
      "outputs": [
        {
          "output_type": "execute_result",
          "data": {
            "text/plain": [
              "array([ 1.        , -1.        ,  1.33333333,  1.        ])"
            ]
          },
          "metadata": {
            "tags": []
          },
          "execution_count": 42
        }
      ]
    },
    {
      "cell_type": "code",
      "metadata": {
        "colab": {
          "base_uri": "https://localhost:8080/"
        },
        "id": "Nprxtv8deB_w",
        "outputId": "abc41f38-48a9-4828-f03e-fd20b3072f97"
      },
      "source": [
        "A + 3"
      ],
      "execution_count": null,
      "outputs": [
        {
          "output_type": "execute_result",
          "data": {
            "text/plain": [
              "array([6, 4, 7, 5])"
            ]
          },
          "metadata": {
            "tags": []
          },
          "execution_count": 36
        }
      ]
    },
    {
      "cell_type": "code",
      "metadata": {
        "colab": {
          "base_uri": "https://localhost:8080/"
        },
        "id": "3BSFMjNYeI70",
        "outputId": "7b03736c-38ec-45ee-9cff-f88d9903b714"
      },
      "source": [
        "2 * A"
      ],
      "execution_count": null,
      "outputs": [
        {
          "output_type": "execute_result",
          "data": {
            "text/plain": [
              "array([6, 2, 8, 4])"
            ]
          },
          "metadata": {
            "tags": []
          },
          "execution_count": 37
        }
      ]
    },
    {
      "cell_type": "code",
      "metadata": {
        "colab": {
          "base_uri": "https://localhost:8080/"
        },
        "id": "TWNZVEHYeNox",
        "outputId": "b4e0edb0-09c3-4164-ff8c-033a87e0d125"
      },
      "source": [
        "A + 3 * B"
      ],
      "execution_count": null,
      "outputs": [
        {
          "output_type": "execute_result",
          "data": {
            "text/plain": [
              "array([12, -2, 13,  8])"
            ]
          },
          "metadata": {
            "tags": []
          },
          "execution_count": 38
        }
      ]
    },
    {
      "cell_type": "code",
      "metadata": {
        "colab": {
          "base_uri": "https://localhost:8080/"
        },
        "id": "apAMSShZeQ8x",
        "outputId": "81726d15-95a9-4ca5-d5e7-4472db8cbb71"
      },
      "source": [
        "X = np.array([[1, 3], [-2, 0]])\n",
        "Y = np.array([[6, 0], [-1, 2]])\n",
        "print(X, '\\n')\n",
        "print(Y)"
      ],
      "execution_count": null,
      "outputs": [
        {
          "output_type": "stream",
          "text": [
            "[[ 1  3]\n",
            " [-2  0]] \n",
            "\n",
            "[[ 6  0]\n",
            " [-1  2]]\n"
          ],
          "name": "stdout"
        }
      ]
    },
    {
      "cell_type": "code",
      "metadata": {
        "colab": {
          "base_uri": "https://localhost:8080/"
        },
        "id": "S7PAW8kLsjXl",
        "outputId": "6b950268-bebb-4f30-aa33-dcbe3219bbd5"
      },
      "source": [
        "X * Y"
      ],
      "execution_count": null,
      "outputs": [
        {
          "output_type": "execute_result",
          "data": {
            "text/plain": [
              "array([[6, 0],\n",
              "       [2, 0]])"
            ]
          },
          "metadata": {
            "tags": []
          },
          "execution_count": 45
        }
      ]
    },
    {
      "cell_type": "code",
      "metadata": {
        "colab": {
          "base_uri": "https://localhost:8080/"
        },
        "id": "m_WMHeOauA4n",
        "outputId": "be849369-6d76-4e90-b496-44d3bfafcb49"
      },
      "source": [
        "np.dot(X, Y) #mnożenie macieżowe"
      ],
      "execution_count": null,
      "outputs": [
        {
          "output_type": "execute_result",
          "data": {
            "text/plain": [
              "array([[  3,   6],\n",
              "       [-12,   0]])"
            ]
          },
          "metadata": {
            "tags": []
          },
          "execution_count": 46
        }
      ]
    },
    {
      "cell_type": "code",
      "metadata": {
        "colab": {
          "base_uri": "https://localhost:8080/"
        },
        "id": "_MNqMLqVuDj6",
        "outputId": "6f12353c-acba-40bb-c8ad-d5a4a716c121"
      },
      "source": [
        "X.dot(Y)"
      ],
      "execution_count": null,
      "outputs": [
        {
          "output_type": "execute_result",
          "data": {
            "text/plain": [
              "array([[  3,   6],\n",
              "       [-12,   0]])"
            ]
          },
          "metadata": {
            "tags": []
          },
          "execution_count": 47
        }
      ]
    },
    {
      "cell_type": "code",
      "metadata": {
        "colab": {
          "base_uri": "https://localhost:8080/"
        },
        "id": "h9kQQ7lJuIqV",
        "outputId": "e8a6fd38-2737-469c-d028-5b24eb3a48ae"
      },
      "source": [
        "Y.dot(X)"
      ],
      "execution_count": null,
      "outputs": [
        {
          "output_type": "execute_result",
          "data": {
            "text/plain": [
              "array([[ 6, 18],\n",
              "       [-5, -3]])"
            ]
          },
          "metadata": {
            "tags": []
          },
          "execution_count": 48
        }
      ]
    },
    {
      "cell_type": "code",
      "metadata": {
        "colab": {
          "base_uri": "https://localhost:8080/"
        },
        "id": "tJmTOHj4uNf_",
        "outputId": "d69aa873-aa1f-452e-e15e-4fa7c51d261d"
      },
      "source": [
        "X @ Y"
      ],
      "execution_count": null,
      "outputs": [
        {
          "output_type": "execute_result",
          "data": {
            "text/plain": [
              "array([[  3,   6],\n",
              "       [-12,   0]])"
            ]
          },
          "metadata": {
            "tags": []
          },
          "execution_count": 49
        }
      ]
    },
    {
      "cell_type": "code",
      "metadata": {
        "id": "8JN1ioI6uSKJ"
      },
      "source": [
        ""
      ],
      "execution_count": null,
      "outputs": []
    },
    {
      "cell_type": "markdown",
      "metadata": {
        "id": "pyRIe2u9uoLR"
      },
      "source": [
        "### <a name='a5'></a>  Generowanie liczb pseudolosowych"
      ]
    },
    {
      "cell_type": "code",
      "metadata": {
        "id": "lKZ3EnI5upyk"
      },
      "source": [
        "np.random.seed(0)"
      ],
      "execution_count": null,
      "outputs": []
    },
    {
      "cell_type": "code",
      "metadata": {
        "colab": {
          "base_uri": "https://localhost:8080/"
        },
        "id": "qqMYZkg2u3vt",
        "outputId": "116a0326-c567-4c32-87bb-d67bd89045a8"
      },
      "source": [
        "np.random.randn()"
      ],
      "execution_count": null,
      "outputs": [
        {
          "output_type": "execute_result",
          "data": {
            "text/plain": [
              "1.764052345967664"
            ]
          },
          "metadata": {
            "tags": []
          },
          "execution_count": 51
        }
      ]
    },
    {
      "cell_type": "code",
      "metadata": {
        "colab": {
          "base_uri": "https://localhost:8080/"
        },
        "id": "E03nkeIevHkP",
        "outputId": "aa5b33fc-54d8-469b-beca-695a5df4f418"
      },
      "source": [
        "np.random.randn(10)"
      ],
      "execution_count": null,
      "outputs": [
        {
          "output_type": "execute_result",
          "data": {
            "text/plain": [
              "array([ 0.40015721,  0.97873798,  2.2408932 ,  1.86755799, -0.97727788,\n",
              "        0.95008842, -0.15135721, -0.10321885,  0.4105985 ,  0.14404357])"
            ]
          },
          "metadata": {
            "tags": []
          },
          "execution_count": 52
        }
      ]
    },
    {
      "cell_type": "code",
      "metadata": {
        "colab": {
          "base_uri": "https://localhost:8080/"
        },
        "id": "8mSiXetKvfUx",
        "outputId": "478a5ed4-e2c0-4d05-c0be-d263afebf2a5"
      },
      "source": [
        "np.random.randn(10, 4) # 10 -> l. wierszy, 4 - l. kolumn"
      ],
      "execution_count": null,
      "outputs": [
        {
          "output_type": "execute_result",
          "data": {
            "text/plain": [
              "array([[ 1.45427351,  0.76103773,  0.12167502,  0.44386323],\n",
              "       [ 0.33367433,  1.49407907, -0.20515826,  0.3130677 ],\n",
              "       [-0.85409574, -2.55298982,  0.6536186 ,  0.8644362 ],\n",
              "       [-0.74216502,  2.26975462, -1.45436567,  0.04575852],\n",
              "       [-0.18718385,  1.53277921,  1.46935877,  0.15494743],\n",
              "       [ 0.37816252, -0.88778575, -1.98079647, -0.34791215],\n",
              "       [ 0.15634897,  1.23029068,  1.20237985, -0.38732682],\n",
              "       [-0.30230275, -1.04855297, -1.42001794, -1.70627019],\n",
              "       [ 1.9507754 , -0.50965218, -0.4380743 , -1.25279536],\n",
              "       [ 0.77749036, -1.61389785, -0.21274028, -0.89546656]])"
            ]
          },
          "metadata": {
            "tags": []
          },
          "execution_count": 53
        }
      ]
    },
    {
      "cell_type": "code",
      "metadata": {
        "colab": {
          "base_uri": "https://localhost:8080/"
        },
        "id": "PEf8w6rVvj01",
        "outputId": "4adf32aa-f57b-4094-b581-642103818ec8"
      },
      "source": [
        "np.random.rand() #zwraca losową wart. z przedziału <0, 1)"
      ],
      "execution_count": null,
      "outputs": [
        {
          "output_type": "execute_result",
          "data": {
            "text/plain": [
              "0.1965823616800535"
            ]
          },
          "metadata": {
            "tags": []
          },
          "execution_count": 54
        }
      ]
    },
    {
      "cell_type": "code",
      "metadata": {
        "colab": {
          "base_uri": "https://localhost:8080/"
        },
        "id": "bFgIkk9MwBKv",
        "outputId": "cb2c3f6b-fb4d-463c-d63c-e213fc95b3a2"
      },
      "source": [
        "np.random.rand(10)"
      ],
      "execution_count": null,
      "outputs": [
        {
          "output_type": "execute_result",
          "data": {
            "text/plain": [
              "array([0.36872517, 0.82099323, 0.09710128, 0.83794491, 0.09609841,\n",
              "       0.97645947, 0.4686512 , 0.97676109, 0.60484552, 0.73926358])"
            ]
          },
          "metadata": {
            "tags": []
          },
          "execution_count": 55
        }
      ]
    },
    {
      "cell_type": "code",
      "metadata": {
        "colab": {
          "base_uri": "https://localhost:8080/"
        },
        "id": "7vsPec1mwN8F",
        "outputId": "96f2d3c8-89d8-4f5c-c2c0-5c67ef437b97"
      },
      "source": [
        "np.random.rand(10, 2)"
      ],
      "execution_count": null,
      "outputs": [
        {
          "output_type": "execute_result",
          "data": {
            "text/plain": [
              "array([[0.03918779, 0.28280696],\n",
              "       [0.12019656, 0.2961402 ],\n",
              "       [0.11872772, 0.31798318],\n",
              "       [0.41426299, 0.0641475 ],\n",
              "       [0.69247212, 0.56660145],\n",
              "       [0.26538949, 0.52324805],\n",
              "       [0.09394051, 0.5759465 ],\n",
              "       [0.9292962 , 0.31856895],\n",
              "       [0.66741038, 0.13179786],\n",
              "       [0.7163272 , 0.28940609]])"
            ]
          },
          "metadata": {
            "tags": []
          },
          "execution_count": 56
        }
      ]
    },
    {
      "cell_type": "code",
      "metadata": {
        "colab": {
          "base_uri": "https://localhost:8080/"
        },
        "id": "iI9fRODUwP7e",
        "outputId": "175e43b5-b7e4-497d-b976-f79210c0eda5"
      },
      "source": [
        "np.random.randint(10) #zwraca l. całkowitą z przedziału <0, 10)"
      ],
      "execution_count": null,
      "outputs": [
        {
          "output_type": "execute_result",
          "data": {
            "text/plain": [
              "3"
            ]
          },
          "metadata": {
            "tags": []
          },
          "execution_count": 57
        }
      ]
    },
    {
      "cell_type": "code",
      "metadata": {
        "colab": {
          "base_uri": "https://localhost:8080/"
        },
        "id": "YqKlkCaew11Z",
        "outputId": "695bda40-2e13-4116-e216-0ccefbdc2dd3"
      },
      "source": [
        "np.random.randint(low=10, high=101, size=10)"
      ],
      "execution_count": null,
      "outputs": [
        {
          "output_type": "execute_result",
          "data": {
            "text/plain": [
              "array([52, 66, 70, 87, 40, 34, 12, 13, 23, 50])"
            ]
          },
          "metadata": {
            "tags": []
          },
          "execution_count": 59
        }
      ]
    },
    {
      "cell_type": "code",
      "metadata": {
        "colab": {
          "base_uri": "https://localhost:8080/"
        },
        "id": "XK8qQTxQxB8j",
        "outputId": "ae097fae-d80b-4c96-8af4-9542045bd6fd"
      },
      "source": [
        "np.random.choice([4, 2, 1, 4]) #zwraca losowy element z podanej listy"
      ],
      "execution_count": null,
      "outputs": [
        {
          "output_type": "execute_result",
          "data": {
            "text/plain": [
              "4"
            ]
          },
          "metadata": {
            "tags": []
          },
          "execution_count": 61
        }
      ]
    },
    {
      "cell_type": "code",
      "metadata": {
        "colab": {
          "base_uri": "https://localhost:8080/",
          "height": 35
        },
        "id": "69gKncP7xfT6",
        "outputId": "20f2926a-7fab-4c11-83b7-7c6fe8097f3b"
      },
      "source": [
        "np.random.choice(['python', 'java', 'sql'])"
      ],
      "execution_count": null,
      "outputs": [
        {
          "output_type": "execute_result",
          "data": {
            "application/vnd.google.colaboratory.intrinsic+json": {
              "type": "string"
            },
            "text/plain": [
              "'python'"
            ]
          },
          "metadata": {
            "tags": []
          },
          "execution_count": 62
        }
      ]
    },
    {
      "cell_type": "code",
      "metadata": {
        "colab": {
          "base_uri": "https://localhost:8080/"
        },
        "id": "rl0evYhDyL7Y",
        "outputId": "a3e7ef52-ac2e-4906-d9ba-304cceec3831"
      },
      "source": [
        "data = np.arange(10)\n",
        "data"
      ],
      "execution_count": null,
      "outputs": [
        {
          "output_type": "execute_result",
          "data": {
            "text/plain": [
              "array([0, 1, 2, 3, 4, 5, 6, 7, 8, 9])"
            ]
          },
          "metadata": {
            "tags": []
          },
          "execution_count": 64
        }
      ]
    },
    {
      "cell_type": "code",
      "metadata": {
        "id": "moC0MHnS4rzb"
      },
      "source": [
        "np.random.shuffle(data)"
      ],
      "execution_count": null,
      "outputs": []
    },
    {
      "cell_type": "code",
      "metadata": {
        "colab": {
          "base_uri": "https://localhost:8080/"
        },
        "id": "BhIk35iE41t6",
        "outputId": "50f0d18f-ab74-4b01-99ce-a62cae8ae32b"
      },
      "source": [
        "data"
      ],
      "execution_count": null,
      "outputs": [
        {
          "output_type": "execute_result",
          "data": {
            "text/plain": [
              "array([6, 9, 1, 5, 0, 7, 3, 4, 8, 2])"
            ]
          },
          "metadata": {
            "tags": []
          },
          "execution_count": 66
        }
      ]
    },
    {
      "cell_type": "markdown",
      "metadata": {
        "id": "tGGoCLmj5Vbu"
      },
      "source": [
        "### <a name='a6'></a> Podstawowe funkcje"
      ]
    },
    {
      "cell_type": "code",
      "metadata": {
        "colab": {
          "base_uri": "https://localhost:8080/"
        },
        "id": "CNkNGctD5WKi",
        "outputId": "165d1539-4852-41eb-b04c-3ce1fe260dc0"
      },
      "source": [
        "np.exp(1)"
      ],
      "execution_count": null,
      "outputs": [
        {
          "output_type": "execute_result",
          "data": {
            "text/plain": [
              "2.718281828459045"
            ]
          },
          "metadata": {
            "tags": []
          },
          "execution_count": 70
        }
      ]
    },
    {
      "cell_type": "code",
      "metadata": {
        "id": "aApSPsNN59zD",
        "colab": {
          "base_uri": "https://localhost:8080/"
        },
        "outputId": "1177403e-1083-4a1f-9e15-1c78e6603d56"
      },
      "source": [
        "np.sqrt(9)"
      ],
      "execution_count": null,
      "outputs": [
        {
          "output_type": "execute_result",
          "data": {
            "text/plain": [
              "3.0"
            ]
          },
          "metadata": {
            "tags": []
          },
          "execution_count": 71
        }
      ]
    },
    {
      "cell_type": "code",
      "metadata": {
        "id": "upOrm-uV6VqE",
        "colab": {
          "base_uri": "https://localhost:8080/"
        },
        "outputId": "a2f8661c-6f0b-4e19-bcbb-8f5f5e0b58ac"
      },
      "source": [
        "np.all([2, 3, 1]) #poddaje spr. logicznemu każdy element listy"
      ],
      "execution_count": null,
      "outputs": [
        {
          "output_type": "execute_result",
          "data": {
            "text/plain": [
              "True"
            ]
          },
          "metadata": {
            "tags": []
          },
          "execution_count": 72
        }
      ]
    },
    {
      "cell_type": "code",
      "metadata": {
        "id": "1U0qHWZE6fKg",
        "colab": {
          "base_uri": "https://localhost:8080/"
        },
        "outputId": "12ab3790-2190-456f-9162-0466c8074413"
      },
      "source": [
        "np.all([2, 3, 0]) #zwraca False ponieważ wart. logiczna dla 0 to false"
      ],
      "execution_count": null,
      "outputs": [
        {
          "output_type": "execute_result",
          "data": {
            "text/plain": [
              "False"
            ]
          },
          "metadata": {
            "tags": []
          },
          "execution_count": 74
        }
      ]
    },
    {
      "cell_type": "code",
      "metadata": {
        "id": "MWWs9WM46vz6",
        "colab": {
          "base_uri": "https://localhost:8080/"
        },
        "outputId": "c1a3196f-0684-4751-99ec-dd593c4a386d"
      },
      "source": [
        "np.any([1, 2, 1])"
      ],
      "execution_count": null,
      "outputs": [
        {
          "output_type": "execute_result",
          "data": {
            "text/plain": [
              "True"
            ]
          },
          "metadata": {
            "tags": []
          },
          "execution_count": 75
        }
      ]
    },
    {
      "cell_type": "code",
      "metadata": {
        "id": "BtDhpx6a7BJr",
        "colab": {
          "base_uri": "https://localhost:8080/"
        },
        "outputId": "ac0276e6-3d76-4ab7-f161-064a415b3712"
      },
      "source": [
        "np.any([0, 0, 0])"
      ],
      "execution_count": null,
      "outputs": [
        {
          "output_type": "execute_result",
          "data": {
            "text/plain": [
              "False"
            ]
          },
          "metadata": {
            "tags": []
          },
          "execution_count": 76
        }
      ]
    },
    {
      "cell_type": "code",
      "metadata": {
        "id": "6B19cgNW7DLe",
        "colab": {
          "base_uri": "https://localhost:8080/"
        },
        "outputId": "9a66ba02-6b74-4f8b-ead4-3c952a45f321"
      },
      "source": [
        "bool(0)"
      ],
      "execution_count": null,
      "outputs": [
        {
          "output_type": "execute_result",
          "data": {
            "text/plain": [
              "False"
            ]
          },
          "metadata": {
            "tags": []
          },
          "execution_count": 77
        }
      ]
    },
    {
      "cell_type": "code",
      "metadata": {
        "id": "RNPAxfJs7K4Y",
        "colab": {
          "base_uri": "https://localhost:8080/"
        },
        "outputId": "44f2fb73-3d35-4092-bf6c-31774c2d9149"
      },
      "source": [
        "bool(1.3)"
      ],
      "execution_count": null,
      "outputs": [
        {
          "output_type": "execute_result",
          "data": {
            "text/plain": [
              "True"
            ]
          },
          "metadata": {
            "tags": []
          },
          "execution_count": 78
        }
      ]
    },
    {
      "cell_type": "code",
      "metadata": {
        "id": "p7KTscH47L86",
        "colab": {
          "base_uri": "https://localhost:8080/"
        },
        "outputId": "f7f68dc4-4f9e-4858-9fef-a7f73f12b0d0"
      },
      "source": [
        "A = np.random.rand(5)\n",
        "A"
      ],
      "execution_count": null,
      "outputs": [
        {
          "output_type": "execute_result",
          "data": {
            "text/plain": [
              "array([0.29743695, 0.81379782, 0.39650574, 0.8811032 , 0.58127287])"
            ]
          },
          "metadata": {
            "tags": []
          },
          "execution_count": 79
        }
      ]
    },
    {
      "cell_type": "code",
      "metadata": {
        "id": "fdUA9cg-7cd1",
        "colab": {
          "base_uri": "https://localhost:8080/"
        },
        "outputId": "3a7efd22-1f7d-4acc-ba2e-d274c9582714"
      },
      "source": [
        "np.argmax(A)"
      ],
      "execution_count": null,
      "outputs": [
        {
          "output_type": "execute_result",
          "data": {
            "text/plain": [
              "3"
            ]
          },
          "metadata": {
            "tags": []
          },
          "execution_count": 80
        }
      ]
    },
    {
      "cell_type": "code",
      "metadata": {
        "id": "lSKSfyur7eVT",
        "colab": {
          "base_uri": "https://localhost:8080/"
        },
        "outputId": "c1b11c51-6f55-4392-a015-285549f7237c"
      },
      "source": [
        "A[np.argmax(A)]"
      ],
      "execution_count": null,
      "outputs": [
        {
          "output_type": "execute_result",
          "data": {
            "text/plain": [
              "0.8811031971111616"
            ]
          },
          "metadata": {
            "tags": []
          },
          "execution_count": 81
        }
      ]
    },
    {
      "cell_type": "code",
      "metadata": {
        "id": "VYGNuiai7l3u",
        "colab": {
          "base_uri": "https://localhost:8080/"
        },
        "outputId": "53a22ec0-b68b-4087-a1e4-971059a93370"
      },
      "source": [
        "np.argmin(A)"
      ],
      "execution_count": null,
      "outputs": [
        {
          "output_type": "execute_result",
          "data": {
            "text/plain": [
              "0"
            ]
          },
          "metadata": {
            "tags": []
          },
          "execution_count": 82
        }
      ]
    },
    {
      "cell_type": "code",
      "metadata": {
        "id": "mmm3hYED7shZ",
        "colab": {
          "base_uri": "https://localhost:8080/"
        },
        "outputId": "47904d04-9c3d-4bd8-d721-f1ac65465828"
      },
      "source": [
        "np.argsort(A) #wart. w tab. to indeksy"
      ],
      "execution_count": null,
      "outputs": [
        {
          "output_type": "execute_result",
          "data": {
            "text/plain": [
              "array([0, 2, 4, 1, 3])"
            ]
          },
          "metadata": {
            "tags": []
          },
          "execution_count": 83
        }
      ]
    },
    {
      "cell_type": "code",
      "metadata": {
        "id": "9_ifHbd774Gy",
        "colab": {
          "base_uri": "https://localhost:8080/"
        },
        "outputId": "162fadab-e83c-4433-d424-f92c35dfa017"
      },
      "source": [
        "np.max(A)"
      ],
      "execution_count": null,
      "outputs": [
        {
          "output_type": "execute_result",
          "data": {
            "text/plain": [
              "0.8811031971111616"
            ]
          },
          "metadata": {
            "tags": []
          },
          "execution_count": 84
        }
      ]
    },
    {
      "cell_type": "code",
      "metadata": {
        "id": "EUR7KmcT8F2G",
        "colab": {
          "base_uri": "https://localhost:8080/"
        },
        "outputId": "60d41411-9a2e-4d5c-fd35-4ebb57f1b22d"
      },
      "source": [
        " np.min(A)"
      ],
      "execution_count": null,
      "outputs": [
        {
          "output_type": "execute_result",
          "data": {
            "text/plain": [
              "0.29743695085513366"
            ]
          },
          "metadata": {
            "tags": []
          },
          "execution_count": 85
        }
      ]
    },
    {
      "cell_type": "code",
      "metadata": {
        "id": "XBZT7zR-8RpI",
        "colab": {
          "base_uri": "https://localhost:8080/"
        },
        "outputId": "884f9f54-aac6-49d2-d360-a9dd45ee014f"
      },
      "source": [
        "np.mean(A)"
      ],
      "execution_count": null,
      "outputs": [
        {
          "output_type": "execute_result",
          "data": {
            "text/plain": [
              "0.5940233162303231"
            ]
          },
          "metadata": {
            "tags": []
          },
          "execution_count": 86
        }
      ]
    },
    {
      "cell_type": "code",
      "metadata": {
        "id": "CA8VaSiY8SsK",
        "colab": {
          "base_uri": "https://localhost:8080/"
        },
        "outputId": "7d5f7019-380c-4008-e698-2dc73a957233"
      },
      "source": [
        "np.median(A)"
      ],
      "execution_count": null,
      "outputs": [
        {
          "output_type": "execute_result",
          "data": {
            "text/plain": [
              "0.5812728726358587"
            ]
          },
          "metadata": {
            "tags": []
          },
          "execution_count": 87
        }
      ]
    },
    {
      "cell_type": "code",
      "metadata": {
        "id": "ml-s46028Tta",
        "colab": {
          "base_uri": "https://localhost:8080/"
        },
        "outputId": "98580d51-4930-411f-845c-34059ecd2b53"
      },
      "source": [
        "np.std(A)"
      ],
      "execution_count": null,
      "outputs": [
        {
          "output_type": "execute_result",
          "data": {
            "text/plain": [
              "0.2270924608641256"
            ]
          },
          "metadata": {
            "tags": []
          },
          "execution_count": 88
        }
      ]
    },
    {
      "cell_type": "markdown",
      "metadata": {
        "id": "VnH5_2vA9ybw"
      },
      "source": [
        "###  <a name='a7'></a> Indeksowanie, Wycinanie"
      ]
    },
    {
      "cell_type": "code",
      "metadata": {
        "id": "AXNpiVsl9zEV",
        "colab": {
          "base_uri": "https://localhost:8080/"
        },
        "outputId": "bb3e371e-0321-4e18-e36a-177d30a3c923"
      },
      "source": [
        "A = np.arange(20)\n",
        "A"
      ],
      "execution_count": 5,
      "outputs": [
        {
          "output_type": "execute_result",
          "data": {
            "text/plain": [
              "array([ 0,  1,  2,  3,  4,  5,  6,  7,  8,  9, 10, 11, 12, 13, 14, 15, 16,\n",
              "       17, 18, 19])"
            ]
          },
          "metadata": {
            "tags": []
          },
          "execution_count": 5
        }
      ]
    },
    {
      "cell_type": "code",
      "metadata": {
        "id": "eRQAiPZW-WXl"
      },
      "source": [
        "# A[idx], A[start:stop], A[:stop], A[start:]"
      ],
      "execution_count": null,
      "outputs": []
    },
    {
      "cell_type": "code",
      "metadata": {
        "id": "Y6v3QY5Z-lcS",
        "colab": {
          "base_uri": "https://localhost:8080/"
        },
        "outputId": "6b58a970-fab8-4032-9fa2-c32c97fb6f56"
      },
      "source": [
        "A[2]"
      ],
      "execution_count": null,
      "outputs": [
        {
          "output_type": "execute_result",
          "data": {
            "text/plain": [
              "2"
            ]
          },
          "metadata": {
            "tags": []
          },
          "execution_count": 91
        }
      ]
    },
    {
      "cell_type": "code",
      "metadata": {
        "id": "xJ_6SXzI-m4z",
        "colab": {
          "base_uri": "https://localhost:8080/"
        },
        "outputId": "c9fe5a28-3fd0-4ca9-a744-54413de83881"
      },
      "source": [
        "A[2:]"
      ],
      "execution_count": null,
      "outputs": [
        {
          "output_type": "execute_result",
          "data": {
            "text/plain": [
              "array([ 2,  3,  4,  5,  6,  7,  8,  9, 10, 11, 12, 13, 14, 15, 16, 17, 18,\n",
              "       19])"
            ]
          },
          "metadata": {
            "tags": []
          },
          "execution_count": 92
        }
      ]
    },
    {
      "cell_type": "code",
      "metadata": {
        "id": "JdStHrFL-2tm",
        "colab": {
          "base_uri": "https://localhost:8080/"
        },
        "outputId": "a1063c40-6180-4ebe-ac7a-94f247a4ffb8"
      },
      "source": [
        "A[:2]"
      ],
      "execution_count": null,
      "outputs": [
        {
          "output_type": "execute_result",
          "data": {
            "text/plain": [
              "array([0, 1])"
            ]
          },
          "metadata": {
            "tags": []
          },
          "execution_count": 93
        }
      ]
    },
    {
      "cell_type": "code",
      "metadata": {
        "id": "zGgn37aL-5Yl",
        "colab": {
          "base_uri": "https://localhost:8080/"
        },
        "outputId": "9011bb92-1d71-4f3d-c438-47af6bf99022"
      },
      "source": [
        "A[[0, 2]]"
      ],
      "execution_count": null,
      "outputs": [
        {
          "output_type": "execute_result",
          "data": {
            "text/plain": [
              "array([0, 2])"
            ]
          },
          "metadata": {
            "tags": []
          },
          "execution_count": 94
        }
      ]
    },
    {
      "cell_type": "code",
      "metadata": {
        "id": "3_NpGL8x-_wH",
        "colab": {
          "base_uri": "https://localhost:8080/"
        },
        "outputId": "ac54fbc3-1279-4ca2-bda9-e010ba59d5dc"
      },
      "source": [
        "A[-1]"
      ],
      "execution_count": null,
      "outputs": [
        {
          "output_type": "execute_result",
          "data": {
            "text/plain": [
              "19"
            ]
          },
          "metadata": {
            "tags": []
          },
          "execution_count": 95
        }
      ]
    },
    {
      "cell_type": "code",
      "metadata": {
        "id": "v32UEH4u_EJA",
        "colab": {
          "base_uri": "https://localhost:8080/"
        },
        "outputId": "509e7a81-6238-4e12-f288-09ff6a2a7019"
      },
      "source": [
        "A[10:15]"
      ],
      "execution_count": null,
      "outputs": [
        {
          "output_type": "execute_result",
          "data": {
            "text/plain": [
              "array([10, 11, 12, 13, 14])"
            ]
          },
          "metadata": {
            "tags": []
          },
          "execution_count": 96
        }
      ]
    },
    {
      "cell_type": "code",
      "metadata": {
        "id": "S9tb6AQg_IDo",
        "colab": {
          "base_uri": "https://localhost:8080/"
        },
        "outputId": "cc32a4f5-8e49-4899-a6c9-6b85b86a3625"
      },
      "source": [
        "A = A.reshape(4, 5)\n",
        "A"
      ],
      "execution_count": 7,
      "outputs": [
        {
          "output_type": "execute_result",
          "data": {
            "text/plain": [
              "array([[ 0,  1,  2,  3,  4],\n",
              "       [ 5,  6,  7,  8,  9],\n",
              "       [10, 11, 12, 13, 14],\n",
              "       [15, 16, 17, 18, 19]])"
            ]
          },
          "metadata": {
            "tags": []
          },
          "execution_count": 7
        }
      ]
    },
    {
      "cell_type": "code",
      "metadata": {
        "id": "-CDllhtr_Qon",
        "colab": {
          "base_uri": "https://localhost:8080/"
        },
        "outputId": "84b040cf-b7c5-42dd-9c1b-437eaf3121b6"
      },
      "source": [
        "A[:, 0]"
      ],
      "execution_count": null,
      "outputs": [
        {
          "output_type": "execute_result",
          "data": {
            "text/plain": [
              "array([ 0,  5, 10, 15])"
            ]
          },
          "metadata": {
            "tags": []
          },
          "execution_count": 99
        }
      ]
    },
    {
      "cell_type": "code",
      "metadata": {
        "id": "-zk257i5_brO",
        "colab": {
          "base_uri": "https://localhost:8080/"
        },
        "outputId": "c73715ca-4216-461d-ac42-a22c3597703f"
      },
      "source": [
        "A[:, -1]"
      ],
      "execution_count": null,
      "outputs": [
        {
          "output_type": "execute_result",
          "data": {
            "text/plain": [
              "array([ 4,  9, 14, 19])"
            ]
          },
          "metadata": {
            "tags": []
          },
          "execution_count": 100
        }
      ]
    },
    {
      "cell_type": "code",
      "metadata": {
        "id": "LehqbA21_jrV",
        "colab": {
          "base_uri": "https://localhost:8080/"
        },
        "outputId": "55530523-39be-4414-da84-e65968fbf03d"
      },
      "source": [
        "A[1, 1]"
      ],
      "execution_count": null,
      "outputs": [
        {
          "output_type": "execute_result",
          "data": {
            "text/plain": [
              "6"
            ]
          },
          "metadata": {
            "tags": []
          },
          "execution_count": 101
        }
      ]
    },
    {
      "cell_type": "code",
      "metadata": {
        "id": "qemOlwZP_qCy",
        "colab": {
          "base_uri": "https://localhost:8080/"
        },
        "outputId": "9fffec14-7f84-4136-a149-15e9cb24c785"
      },
      "source": [
        "A[1:3, 1:4]"
      ],
      "execution_count": null,
      "outputs": [
        {
          "output_type": "execute_result",
          "data": {
            "text/plain": [
              "array([[ 6,  7,  8],\n",
              "       [11, 12, 13]])"
            ]
          },
          "metadata": {
            "tags": []
          },
          "execution_count": 103
        }
      ]
    },
    {
      "cell_type": "code",
      "metadata": {
        "id": "_0hIHzPh_4vL",
        "colab": {
          "base_uri": "https://localhost:8080/"
        },
        "outputId": "5e107885-851f-47e1-e52c-5349e438b61f"
      },
      "source": [
        "A[1, 2] = 14\n",
        "A"
      ],
      "execution_count": 8,
      "outputs": [
        {
          "output_type": "execute_result",
          "data": {
            "text/plain": [
              "array([[ 0,  1,  2,  3,  4],\n",
              "       [ 5,  6, 14,  8,  9],\n",
              "       [10, 11, 12, 13, 14],\n",
              "       [15, 16, 17, 18, 19]])"
            ]
          },
          "metadata": {
            "tags": []
          },
          "execution_count": 8
        }
      ]
    },
    {
      "cell_type": "markdown",
      "metadata": {
        "id": "Nb-OfMtT4GJv"
      },
      "source": [
        "### <a name='a8'></a> Iteracja po tablicach"
      ]
    },
    {
      "cell_type": "code",
      "metadata": {
        "id": "JYlywlqr4I6I",
        "outputId": "2e8b68f2-d726-4b27-bf65-d76bd8fe0da2",
        "colab": {
          "base_uri": "https://localhost:8080/"
        }
      },
      "source": [
        "A"
      ],
      "execution_count": 9,
      "outputs": [
        {
          "output_type": "execute_result",
          "data": {
            "text/plain": [
              "array([[ 0,  1,  2,  3,  4],\n",
              "       [ 5,  6, 14,  8,  9],\n",
              "       [10, 11, 12, 13, 14],\n",
              "       [15, 16, 17, 18, 19]])"
            ]
          },
          "metadata": {
            "tags": []
          },
          "execution_count": 9
        }
      ]
    },
    {
      "cell_type": "code",
      "metadata": {
        "id": "zXDvLDhm9sFF",
        "outputId": "1b298961-4afc-40a9-fa93-d630364d849f",
        "colab": {
          "base_uri": "https://localhost:8080/"
        }
      },
      "source": [
        "for row in A:\n",
        "  print(row)"
      ],
      "execution_count": 10,
      "outputs": [
        {
          "output_type": "stream",
          "text": [
            "[0 1 2 3 4]\n",
            "[ 5  6 14  8  9]\n",
            "[10 11 12 13 14]\n",
            "[15 16 17 18 19]\n"
          ],
          "name": "stdout"
        }
      ]
    },
    {
      "cell_type": "code",
      "metadata": {
        "id": "6gY7Fwlg-Bvs",
        "outputId": "f2cf52d0-1c83-452f-e265-9ec4761b6a13",
        "colab": {
          "base_uri": "https://localhost:8080/"
        }
      },
      "source": [
        "for row in A:\n",
        "  print(row[0])"
      ],
      "execution_count": 11,
      "outputs": [
        {
          "output_type": "stream",
          "text": [
            "0\n",
            "5\n",
            "10\n",
            "15\n"
          ],
          "name": "stdout"
        }
      ]
    },
    {
      "cell_type": "code",
      "metadata": {
        "id": "Y8hX-Wnw-GIE",
        "outputId": "55e4eb04-7786-41a8-8bd2-d7b5eaefa427",
        "colab": {
          "base_uri": "https://localhost:8080/"
        }
      },
      "source": [
        "for row in A:\n",
        "  print(row[:3])"
      ],
      "execution_count": 12,
      "outputs": [
        {
          "output_type": "stream",
          "text": [
            "[0 1 2]\n",
            "[ 5  6 14]\n",
            "[10 11 12]\n",
            "[15 16 17]\n"
          ],
          "name": "stdout"
        }
      ]
    },
    {
      "cell_type": "code",
      "metadata": {
        "id": "KGP8f58v-KHx",
        "outputId": "8404d63d-9d17-4890-96b3-697a455a37ae",
        "colab": {
          "base_uri": "https://localhost:8080/"
        }
      },
      "source": [
        "for item in A.flat:\n",
        "  print(item)"
      ],
      "execution_count": 13,
      "outputs": [
        {
          "output_type": "stream",
          "text": [
            "0\n",
            "1\n",
            "2\n",
            "3\n",
            "4\n",
            "5\n",
            "6\n",
            "14\n",
            "8\n",
            "9\n",
            "10\n",
            "11\n",
            "12\n",
            "13\n",
            "14\n",
            "15\n",
            "16\n",
            "17\n",
            "18\n",
            "19\n"
          ],
          "name": "stdout"
        }
      ]
    },
    {
      "cell_type": "markdown",
      "metadata": {
        "id": "pvzs_LzH--kU"
      },
      "source": [
        "### <a name='a9'></a> Zmiana rozmiaru tablic"
      ]
    },
    {
      "cell_type": "code",
      "metadata": {
        "id": "uXkBrjR--_DJ",
        "outputId": "00c75539-05e2-44c6-d3f9-cccb90e83328",
        "colab": {
          "base_uri": "https://localhost:8080/"
        }
      },
      "source": [
        "A"
      ],
      "execution_count": 14,
      "outputs": [
        {
          "output_type": "execute_result",
          "data": {
            "text/plain": [
              "array([[ 0,  1,  2,  3,  4],\n",
              "       [ 5,  6, 14,  8,  9],\n",
              "       [10, 11, 12, 13, 14],\n",
              "       [15, 16, 17, 18, 19]])"
            ]
          },
          "metadata": {
            "tags": []
          },
          "execution_count": 14
        }
      ]
    },
    {
      "cell_type": "code",
      "metadata": {
        "id": "rTaNv_Q1_D9o",
        "outputId": "2bd3415e-ac6c-4105-bfc2-019945cf1980",
        "colab": {
          "base_uri": "https://localhost:8080/"
        }
      },
      "source": [
        "A.shape"
      ],
      "execution_count": 15,
      "outputs": [
        {
          "output_type": "execute_result",
          "data": {
            "text/plain": [
              "(4, 5)"
            ]
          },
          "metadata": {
            "tags": []
          },
          "execution_count": 15
        }
      ]
    },
    {
      "cell_type": "code",
      "metadata": {
        "id": "HsLwuUR9_FUb",
        "outputId": "332de7f6-14dd-48f8-c974-90fc8f1a1e12",
        "colab": {
          "base_uri": "https://localhost:8080/"
        }
      },
      "source": [
        "A.reshape(5, 4)"
      ],
      "execution_count": 18,
      "outputs": [
        {
          "output_type": "execute_result",
          "data": {
            "text/plain": [
              "array([[ 0,  1,  2,  3],\n",
              "       [ 4,  5,  6, 14],\n",
              "       [ 8,  9, 10, 11],\n",
              "       [12, 13, 14, 15],\n",
              "       [16, 17, 18, 19]])"
            ]
          },
          "metadata": {
            "tags": []
          },
          "execution_count": 18
        }
      ]
    },
    {
      "cell_type": "code",
      "metadata": {
        "id": "m2firYnW_RIC",
        "outputId": "cef8f202-3f94-4b00-aebc-d2338a22794d",
        "colab": {
          "base_uri": "https://localhost:8080/"
        }
      },
      "source": [
        "A.ravel()"
      ],
      "execution_count": 19,
      "outputs": [
        {
          "output_type": "execute_result",
          "data": {
            "text/plain": [
              "array([ 0,  1,  2,  3,  4,  5,  6, 14,  8,  9, 10, 11, 12, 13, 14, 15, 16,\n",
              "       17, 18, 19])"
            ]
          },
          "metadata": {
            "tags": []
          },
          "execution_count": 19
        }
      ]
    },
    {
      "cell_type": "code",
      "metadata": {
        "id": "rCtxJhbH_ct4",
        "outputId": "df0aa86c-d045-4cb6-fe94-6792e51460e8",
        "colab": {
          "base_uri": "https://localhost:8080/"
        }
      },
      "source": [
        "A.T"
      ],
      "execution_count": 20,
      "outputs": [
        {
          "output_type": "execute_result",
          "data": {
            "text/plain": [
              "array([[ 0,  5, 10, 15],\n",
              "       [ 1,  6, 11, 16],\n",
              "       [ 2, 14, 12, 17],\n",
              "       [ 3,  8, 13, 18],\n",
              "       [ 4,  9, 14, 19]])"
            ]
          },
          "metadata": {
            "tags": []
          },
          "execution_count": 20
        }
      ]
    },
    {
      "cell_type": "markdown",
      "metadata": {
        "id": "FZzIvSa2AkX3"
      },
      "source": [
        "### <a name='a10'></a> Maski logiczne"
      ]
    },
    {
      "cell_type": "code",
      "metadata": {
        "id": "dVCC-8sKAk4E",
        "outputId": "9f575442-cdc2-4d61-888c-dcd30bdbdb43",
        "colab": {
          "base_uri": "https://localhost:8080/"
        }
      },
      "source": [
        "A = np.arange(start=-10, stop=10, step = .5)\n",
        "A = A.reshape(10, -1)\n",
        "A"
      ],
      "execution_count": 24,
      "outputs": [
        {
          "output_type": "execute_result",
          "data": {
            "text/plain": [
              "array([[-10. ,  -9.5,  -9. ,  -8.5],\n",
              "       [ -8. ,  -7.5,  -7. ,  -6.5],\n",
              "       [ -6. ,  -5.5,  -5. ,  -4.5],\n",
              "       [ -4. ,  -3.5,  -3. ,  -2.5],\n",
              "       [ -2. ,  -1.5,  -1. ,  -0.5],\n",
              "       [  0. ,   0.5,   1. ,   1.5],\n",
              "       [  2. ,   2.5,   3. ,   3.5],\n",
              "       [  4. ,   4.5,   5. ,   5.5],\n",
              "       [  6. ,   6.5,   7. ,   7.5],\n",
              "       [  8. ,   8.5,   9. ,   9.5]])"
            ]
          },
          "metadata": {
            "tags": []
          },
          "execution_count": 24
        }
      ]
    },
    {
      "cell_type": "code",
      "metadata": {
        "id": "hHmHFC3XBTCn",
        "outputId": "f2023254-1c8b-4677-9dc3-17631a5434e5",
        "colab": {
          "base_uri": "https://localhost:8080/"
        }
      },
      "source": [
        "A > 0"
      ],
      "execution_count": 28,
      "outputs": [
        {
          "output_type": "execute_result",
          "data": {
            "text/plain": [
              "array([[False, False, False, False],\n",
              "       [False, False, False, False],\n",
              "       [False, False, False, False],\n",
              "       [False, False, False, False],\n",
              "       [False, False, False, False],\n",
              "       [False,  True,  True,  True],\n",
              "       [ True,  True,  True,  True],\n",
              "       [ True,  True,  True,  True],\n",
              "       [ True,  True,  True,  True],\n",
              "       [ True,  True,  True,  True]])"
            ]
          },
          "metadata": {
            "tags": []
          },
          "execution_count": 28
        }
      ]
    },
    {
      "cell_type": "code",
      "metadata": {
        "id": "vwLD2i2aQYaW",
        "outputId": "0fde73d3-c803-4834-9a99-c0abfe486d96",
        "colab": {
          "base_uri": "https://localhost:8080/"
        }
      },
      "source": [
        "A[A > 0]"
      ],
      "execution_count": 33,
      "outputs": [
        {
          "output_type": "execute_result",
          "data": {
            "text/plain": [
              "array([0.5, 1. , 1.5, 2. , 2.5, 3. , 3.5, 4. , 4.5, 5. , 5.5, 6. , 6.5,\n",
              "       7. , 7.5, 8. , 8.5, 9. , 9.5])"
            ]
          },
          "metadata": {
            "tags": []
          },
          "execution_count": 33
        }
      ]
    },
    {
      "cell_type": "code",
      "metadata": {
        "id": "_rthBZpqQi9_",
        "outputId": "788453db-648f-4562-cf78-c15a07f31fb7",
        "colab": {
          "base_uri": "https://localhost:8080/"
        }
      },
      "source": [
        "np.bitwise_and(A > -5, A < 5)"
      ],
      "execution_count": 34,
      "outputs": [
        {
          "output_type": "execute_result",
          "data": {
            "text/plain": [
              "array([[False, False, False, False],\n",
              "       [False, False, False, False],\n",
              "       [False, False, False,  True],\n",
              "       [ True,  True,  True,  True],\n",
              "       [ True,  True,  True,  True],\n",
              "       [ True,  True,  True,  True],\n",
              "       [ True,  True,  True,  True],\n",
              "       [ True,  True, False, False],\n",
              "       [False, False, False, False],\n",
              "       [False, False, False, False]])"
            ]
          },
          "metadata": {
            "tags": []
          },
          "execution_count": 34
        }
      ]
    },
    {
      "cell_type": "code",
      "metadata": {
        "id": "IgQVNXsgSk6x",
        "outputId": "242945f1-44ba-4cc7-fde7-ae3db1b5dc0a",
        "colab": {
          "base_uri": "https://localhost:8080/"
        }
      },
      "source": [
        "A[np.bitwise_and(A > -5, A < 5)]"
      ],
      "execution_count": 35,
      "outputs": [
        {
          "output_type": "execute_result",
          "data": {
            "text/plain": [
              "array([-4.5, -4. , -3.5, -3. , -2.5, -2. , -1.5, -1. , -0.5,  0. ,  0.5,\n",
              "        1. ,  1.5,  2. ,  2.5,  3. ,  3.5,  4. ,  4.5])"
            ]
          },
          "metadata": {
            "tags": []
          },
          "execution_count": 35
        }
      ]
    },
    {
      "cell_type": "code",
      "metadata": {
        "id": "ifZWVxPSSqf0",
        "outputId": "31360a06-b8d8-4a77-ed6c-5de8c4e49ee7",
        "colab": {
          "base_uri": "https://localhost:8080/"
        }
      },
      "source": [
        "np.bitwise_or(A < -5, A > 5)"
      ],
      "execution_count": 36,
      "outputs": [
        {
          "output_type": "execute_result",
          "data": {
            "text/plain": [
              "array([[ True,  True,  True,  True],\n",
              "       [ True,  True,  True,  True],\n",
              "       [ True,  True, False, False],\n",
              "       [False, False, False, False],\n",
              "       [False, False, False, False],\n",
              "       [False, False, False, False],\n",
              "       [False, False, False, False],\n",
              "       [False, False, False,  True],\n",
              "       [ True,  True,  True,  True],\n",
              "       [ True,  True,  True,  True]])"
            ]
          },
          "metadata": {
            "tags": []
          },
          "execution_count": 36
        }
      ]
    },
    {
      "cell_type": "code",
      "metadata": {
        "id": "S62Fq8OtS4S_"
      },
      "source": [
        ""
      ],
      "execution_count": null,
      "outputs": []
    }
  ]
}